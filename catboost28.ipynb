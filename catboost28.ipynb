{
  "nbformat": 4,
  "nbformat_minor": 0,
  "metadata": {
    "colab": {
      "provenance": [],
      "mount_file_id": "1BCRr0hKMbx-CfczEVGviHXrHTmgmbKvN",
      "authorship_tag": "ABX9TyNqUOF4+negfRgLbA1zXzt0",
      "include_colab_link": true
    },
    "kernelspec": {
      "name": "python3",
      "display_name": "Python 3"
    },
    "language_info": {
      "name": "python"
    },
    "widgets": {
      "application/vnd.jupyter.widget-state+json": {
        "ceea7b78e3744829a3d9c81fce1b3868": {
          "model_module": "catboost-widget",
          "model_name": "CatboostWidgetModel",
          "model_module_version": "^1.0.0",
          "state": {
            "_dom_classes": [],
            "_model_module": "catboost-widget",
            "_model_module_version": "^1.0.0",
            "_model_name": "CatboostWidgetModel",
            "_view_count": null,
            "_view_module": "catboost-widget",
            "_view_module_version": "^1.0.0",
            "_view_name": "CatboostWidgetView",
            "data": {
              "catboost_info": {
                "path": "catboost_info",
                "name": "catboost_info",
                "content": {
                  "passed_iterations": 252,
                  "total_iterations": 1000,
                  "data": {
                    "iterations": [
                      {
                        "learn": [
                          0.7065989848,
                          0.6611231608
                        ],
                        "iteration": 0,
                        "passed_time": 0.005468950404,
                        "remaining_time": 5.463481454,
                        "test": [
                          0.6575342466,
                          0.6556504846
                        ]
                      },
                      {
                        "learn": [
                          0.759082218,
                          0.6391751686
                        ],
                        "iteration": 1,
                        "passed_time": 0.01386552121,
                        "remaining_time": 6.918895084,
                        "test": [
                          0.7120418848,
                          0.6339928362
                        ]
                      },
                      {
                        "learn": [
                          0.75,
                          0.6228363425
                        ],
                        "iteration": 2,
                        "passed_time": 0.01894452086,
                        "remaining_time": 6.295895764,
                        "test": [
                          0.7108753316,
                          0.6148080698
                        ]
                      },
                      {
                        "learn": [
                          0.796635329,
                          0.5898540083
                        ],
                        "iteration": 3,
                        "passed_time": 0.02523462158,
                        "remaining_time": 6.283420773,
                        "test": [
                          0.7676240209,
                          0.5785481097
                        ]
                      },
                      {
                        "learn": [
                          0.8095002474,
                          0.5718986455
                        ],
                        "iteration": 4,
                        "passed_time": 0.03110393227,
                        "remaining_time": 6.189682522,
                        "test": [
                          0.7786259542,
                          0.5579421059
                        ]
                      },
                      {
                        "learn": [
                          0.8282329714,
                          0.5593744286
                        ],
                        "iteration": 5,
                        "passed_time": 0.03656722281,
                        "remaining_time": 6.057969912,
                        "test": [
                          0.807106599,
                          0.5481654044
                        ]
                      },
                      {
                        "learn": [
                          0.8354177089,
                          0.5461980325
                        ],
                        "iteration": 6,
                        "passed_time": 0.04170005096,
                        "remaining_time": 5.915450086,
                        "test": [
                          0.8134715026,
                          0.53499849
                        ]
                      },
                      {
                        "learn": [
                          0.8340080972,
                          0.5362110324
                        ],
                        "iteration": 7,
                        "passed_time": 0.04667925297,
                        "remaining_time": 5.788227368,
                        "test": [
                          0.819843342,
                          0.52433819
                        ]
                      },
                      {
                        "learn": [
                          0.8539778449,
                          0.5276173604
                        ],
                        "iteration": 8,
                        "passed_time": 0.05176046278,
                        "remaining_time": 5.699402069,
                        "test": [
                          0.8328912467,
                          0.5131283784
                        ]
                      },
                      {
                        "learn": [
                          0.8766430738,
                          0.5034481954
                        ],
                        "iteration": 9,
                        "passed_time": 0.05698466921,
                        "remaining_time": 5.641482252,
                        "test": [
                          0.8541114058,
                          0.4915516854
                        ]
                      },
                      {
                        "learn": [
                          0.8885526979,
                          0.4873285894
                        ],
                        "iteration": 10,
                        "passed_time": 0.06183055438,
                        "remaining_time": 5.559128934,
                        "test": [
                          0.8739946381,
                          0.4734371669
                        ]
                      },
                      {
                        "learn": [
                          0.8900152053,
                          0.4799171485
                        ],
                        "iteration": 11,
                        "passed_time": 0.06832297031,
                        "remaining_time": 5.625257888,
                        "test": [
                          0.871657754,
                          0.4671378392
                        ]
                      },
                      {
                        "learn": [
                          0.8940329218,
                          0.4603165303
                        ],
                        "iteration": 12,
                        "passed_time": 0.07346900836,
                        "remaining_time": 5.577993173,
                        "test": [
                          0.8709677419,
                          0.4457706513
                        ]
                      },
                      {
                        "learn": [
                          0.8935950413,
                          0.4551567353
                        ],
                        "iteration": 13,
                        "passed_time": 0.07825088527,
                        "remaining_time": 5.511098063,
                        "test": [
                          0.8726287263,
                          0.4416003545
                        ]
                      },
                      {
                        "learn": [
                          0.903192585,
                          0.4269326314
                        ],
                        "iteration": 14,
                        "passed_time": 0.08334902446,
                        "remaining_time": 5.473252606,
                        "test": [
                          0.8864864865,
                          0.4127418142
                        ]
                      },
                      {
                        "learn": [
                          0.9110651499,
                          0.4195841104
                        ],
                        "iteration": 15,
                        "passed_time": 0.08842904408,
                        "remaining_time": 5.438386211,
                        "test": [
                          0.8972972973,
                          0.4053012936
                        ]
                      },
                      {
                        "learn": [
                          0.9229188078,
                          0.4113210719
                        ],
                        "iteration": 16,
                        "passed_time": 0.09351072366,
                        "remaining_time": 5.40712008,
                        "test": [
                          0.9056603774,
                          0.3982685013
                        ]
                      },
                      {
                        "learn": [
                          0.9215786776,
                          0.4045282373
                        ],
                        "iteration": 17,
                        "passed_time": 0.09847883571,
                        "remaining_time": 5.372567593,
                        "test": [
                          0.9037433155,
                          0.3923108608
                        ]
                      },
                      {
                        "learn": [
                          0.9261538462,
                          0.3981532327
                        ],
                        "iteration": 18,
                        "passed_time": 0.1034860473,
                        "remaining_time": 5.34314802,
                        "test": [
                          0.9061662198,
                          0.3890909896
                        ]
                      },
                      {
                        "learn": [
                          0.9275808937,
                          0.3926427435
                        ],
                        "iteration": 19,
                        "passed_time": 0.1086713942,
                        "remaining_time": 5.324898315,
                        "test": [
                          0.8983957219,
                          0.38628843
                        ]
                      },
                      {
                        "learn": [
                          0.9363449692,
                          0.3783079258
                        ],
                        "iteration": 20,
                        "passed_time": 0.1137942328,
                        "remaining_time": 5.304978757,
                        "test": [
                          0.9090909091,
                          0.3717633772
                        ]
                      },
                      {
                        "learn": [
                          0.9417773238,
                          0.3708506373
                        ],
                        "iteration": 21,
                        "passed_time": 0.1188096237,
                        "remaining_time": 5.281627818,
                        "test": [
                          0.9086021505,
                          0.3667034881
                        ]
                      },
                      {
                        "learn": [
                          0.944359367,
                          0.3659905838
                        ],
                        "iteration": 22,
                        "passed_time": 0.1248815896,
                        "remaining_time": 5.304752741,
                        "test": [
                          0.920212766,
                          0.3636935115
                        ]
                      },
                      {
                        "learn": [
                          0.9565661727,
                          0.3439043245
                        ],
                        "iteration": 23,
                        "passed_time": 0.1312670881,
                        "remaining_time": 5.338194915,
                        "test": [
                          0.9304812834,
                          0.3454704227
                        ]
                      },
                      {
                        "learn": [
                          0.9534526854,
                          0.3404067049
                        ],
                        "iteration": 24,
                        "passed_time": 0.1365187236,
                        "remaining_time": 5.324230221,
                        "test": [
                          0.9304812834,
                          0.3439798457
                        ]
                      },
                      {
                        "learn": [
                          0.9560327198,
                          0.3319862635
                        ],
                        "iteration": 25,
                        "passed_time": 0.141768229,
                        "remaining_time": 5.310855964,
                        "test": [
                          0.9329758713,
                          0.3353188492
                        ]
                      },
                      {
                        "learn": [
                          0.9603255341,
                          0.3279146339
                        ],
                        "iteration": 26,
                        "passed_time": 0.1468161894,
                        "remaining_time": 5.290820455,
                        "test": [
                          0.9297297297,
                          0.3315390646
                        ]
                      },
                      {
                        "learn": [
                          0.9597554763,
                          0.3224769245
                        ],
                        "iteration": 27,
                        "passed_time": 0.1520400154,
                        "remaining_time": 5.277960534,
                        "test": [
                          0.9243243243,
                          0.3290128002
                        ]
                      },
                      {
                        "learn": [
                          0.9597554763,
                          0.3178641047
                        ],
                        "iteration": 28,
                        "passed_time": 0.1569806383,
                        "remaining_time": 5.25614482,
                        "test": [
                          0.927613941,
                          0.3246172298
                        ]
                      },
                      {
                        "learn": [
                          0.9608142494,
                          0.3135781148
                        ],
                        "iteration": 29,
                        "passed_time": 0.1621994546,
                        "remaining_time": 5.244449033,
                        "test": [
                          0.9189189189,
                          0.3216072701
                        ]
                      },
                      {
                        "learn": [
                          0.9618320611,
                          0.307047035
                        ],
                        "iteration": 30,
                        "passed_time": 0.1671310075,
                        "remaining_time": 5.224191817,
                        "test": [
                          0.9243243243,
                          0.31492607
                        ]
                      },
                      {
                        "learn": [
                          0.9619482496,
                          0.2998340088
                        ],
                        "iteration": 31,
                        "passed_time": 0.1741963503,
                        "remaining_time": 5.269439598,
                        "test": [
                          0.9214092141,
                          0.3075764371
                        ]
                      },
                      {
                        "learn": [
                          0.963904423,
                          0.2859868248
                        ],
                        "iteration": 32,
                        "passed_time": 0.1859091928,
                        "remaining_time": 5.44770271,
                        "test": [
                          0.9301075269,
                          0.2927956128
                        ]
                      },
                      {
                        "learn": [
                          0.9654471545,
                          0.2839293023
                        ],
                        "iteration": 33,
                        "passed_time": 0.19108204,
                        "remaining_time": 5.42897796,
                        "test": [
                          0.935483871,
                          0.2924831951
                        ]
                      },
                      {
                        "learn": [
                          0.9704383282,
                          0.2790767446
                        ],
                        "iteration": 34,
                        "passed_time": 0.196220728,
                        "remaining_time": 5.410085786,
                        "test": [
                          0.9243243243,
                          0.2891826492
                        ]
                      },
                      {
                        "learn": [
                          0.9709035222,
                          0.2643457415
                        ],
                        "iteration": 35,
                        "passed_time": 0.2014480539,
                        "remaining_time": 5.394331221,
                        "test": [
                          0.9297297297,
                          0.2713969912
                        ]
                      },
                      {
                        "learn": [
                          0.9729453803,
                          0.2576687604
                        ],
                        "iteration": 36,
                        "passed_time": 0.2094055253,
                        "remaining_time": 5.450203268,
                        "test": [
                          0.9293478261,
                          0.265639521
                        ]
                      },
                      {
                        "learn": [
                          0.9739663093,
                          0.2524155852
                        ],
                        "iteration": 37,
                        "passed_time": 0.2146300113,
                        "remaining_time": 5.433528181,
                        "test": [
                          0.9380053908,
                          0.2594081553
                        ]
                      },
                      {
                        "learn": [
                          0.9744114637,
                          0.2469513396
                        ],
                        "iteration": 38,
                        "passed_time": 0.2201088015,
                        "remaining_time": 5.423706621,
                        "test": [
                          0.9453551913,
                          0.2554667766
                        ]
                      },
                      {
                        "learn": [
                          0.9759836484,
                          0.2428763625
                        ],
                        "iteration": 39,
                        "passed_time": 0.2250754736,
                        "remaining_time": 5.401811366,
                        "test": [
                          0.9482288828,
                          0.2512425427
                        ]
                      },
                      {
                        "learn": [
                          0.9770056208,
                          0.2369556974
                        ],
                        "iteration": 40,
                        "passed_time": 0.2302279812,
                        "remaining_time": 5.385088635,
                        "test": [
                          0.9456521739,
                          0.2479761125
                        ]
                      },
                      {
                        "learn": [
                          0.9775510204,
                          0.2335427889
                        ],
                        "iteration": 41,
                        "passed_time": 0.2351269354,
                        "remaining_time": 5.363133431,
                        "test": [
                          0.9456521739,
                          0.246302686
                        ]
                      },
                      {
                        "learn": [
                          0.974961676,
                          0.2316244082
                        ],
                        "iteration": 42,
                        "passed_time": 0.2401663257,
                        "remaining_time": 5.345097064,
                        "test": [
                          0.9456521739,
                          0.2451550823
                        ]
                      },
                      {
                        "learn": [
                          0.9765066394,
                          0.229722709
                        ],
                        "iteration": 43,
                        "passed_time": 0.245218746,
                        "remaining_time": 5.327934573,
                        "test": [
                          0.9427792916,
                          0.2437265111
                        ]
                      },
                      {
                        "learn": [
                          0.9765306122,
                          0.2273027964
                        ],
                        "iteration": 44,
                        "passed_time": 0.2500461916,
                        "remaining_time": 5.306535844,
                        "test": [
                          0.9479452055,
                          0.2419813705
                        ]
                      },
                      {
                        "learn": [
                          0.9785495403,
                          0.225541691
                        ],
                        "iteration": 45,
                        "passed_time": 0.2551131818,
                        "remaining_time": 5.290825552,
                        "test": [
                          0.9427792916,
                          0.2410311015
                        ]
                      },
                      {
                        "learn": [
                          0.9795709908,
                          0.2235185437
                        ],
                        "iteration": 46,
                        "passed_time": 0.2603931567,
                        "remaining_time": 5.279886772,
                        "test": [
                          0.9427792916,
                          0.2402369667
                        ]
                      },
                      {
                        "learn": [
                          0.979028133,
                          0.2217144084
                        ],
                        "iteration": 47,
                        "passed_time": 0.265569714,
                        "remaining_time": 5.267132661,
                        "test": [
                          0.9453551913,
                          0.2395248411
                        ]
                      },
                      {
                        "learn": [
                          0.9795501022,
                          0.2129795414
                        ],
                        "iteration": 48,
                        "passed_time": 0.2704888774,
                        "remaining_time": 5.249692294,
                        "test": [
                          0.9534246575,
                          0.2275390693
                        ]
                      },
                      {
                        "learn": [
                          0.9821337417,
                          0.2108734325
                        ],
                        "iteration": 49,
                        "passed_time": 0.2752702841,
                        "remaining_time": 5.230135398,
                        "test": [
                          0.9593495935,
                          0.2264466074
                        ]
                      },
                      {
                        "learn": [
                          0.9831546708,
                          0.2078214092
                        ],
                        "iteration": 50,
                        "passed_time": 0.2803618537,
                        "remaining_time": 5.216929395,
                        "test": [
                          0.9565217391,
                          0.2249548301
                        ]
                      },
                      {
                        "learn": [
                          0.9821337417,
                          0.2057300692
                        ],
                        "iteration": 51,
                        "passed_time": 0.2854628128,
                        "remaining_time": 5.204206664,
                        "test": [
                          0.9536784741,
                          0.2242803085
                        ]
                      },
                      {
                        "learn": [
                          0.9826353422,
                          0.1998492495
                        ],
                        "iteration": 52,
                        "passed_time": 0.2904218753,
                        "remaining_time": 5.189236149,
                        "test": [
                          0.9536784741,
                          0.2196816369
                        ]
                      },
                      {
                        "learn": [
                          0.9831546708,
                          0.1984247639
                        ],
                        "iteration": 53,
                        "passed_time": 0.2954592759,
                        "remaining_time": 5.176008797,
                        "test": [
                          0.9539295393,
                          0.2189100919
                        ]
                      },
                      {
                        "learn": [
                          0.9846782431,
                          0.1965371816
                        ],
                        "iteration": 54,
                        "passed_time": 0.3003623597,
                        "remaining_time": 5.160771454,
                        "test": [
                          0.9539295393,
                          0.2181322923
                        ]
                      },
                      {
                        "learn": [
                          0.9862174579,
                          0.1947436407
                        ],
                        "iteration": 55,
                        "passed_time": 0.3051543164,
                        "remaining_time": 5.144029905,
                        "test": [
                          0.9510869565,
                          0.2168741804
                        ]
                      },
                      {
                        "learn": [
                          0.9856996936,
                          0.1935004455
                        ],
                        "iteration": 56,
                        "passed_time": 0.3100465907,
                        "remaining_time": 5.129367281,
                        "test": [
                          0.9536784741,
                          0.2163827348
                        ]
                      },
                      {
                        "learn": [
                          0.9862174579,
                          0.1912987928
                        ],
                        "iteration": 57,
                        "passed_time": 0.315216938,
                        "remaining_time": 5.119557854,
                        "test": [
                          0.9536784741,
                          0.2150758611
                        ]
                      },
                      {
                        "learn": [
                          0.9856996936,
                          0.1862120374
                        ],
                        "iteration": 58,
                        "passed_time": 0.3201961702,
                        "remaining_time": 5.106857562,
                        "test": [
                          0.9510869565,
                          0.2104126011
                        ]
                      },
                      {
                        "learn": [
                          0.987755102,
                          0.1831049753
                        ],
                        "iteration": 59,
                        "passed_time": 0.3253568777,
                        "remaining_time": 5.09725775,
                        "test": [
                          0.9536784741,
                          0.2072765456
                        ]
                      },
                      {
                        "learn": [
                          0.987755102,
                          0.1816496064
                        ],
                        "iteration": 60,
                        "passed_time": 0.3303154704,
                        "remaining_time": 5.084692241,
                        "test": [
                          0.9591280654,
                          0.2064195374
                        ]
                      },
                      {
                        "learn": [
                          0.9882712902,
                          0.1808832455
                        ],
                        "iteration": 61,
                        "passed_time": 0.335271713,
                        "remaining_time": 5.07233656,
                        "test": [
                          0.9591280654,
                          0.2061668038
                        ]
                      },
                      {
                        "learn": [
                          0.9882712902,
                          0.1758122002
                        ],
                        "iteration": 62,
                        "passed_time": 0.3403364627,
                        "remaining_time": 5.061829612,
                        "test": [
                          0.9619565217,
                          0.2008295458
                        ]
                      },
                      {
                        "learn": [
                          0.987755102,
                          0.1742189615
                        ],
                        "iteration": 63,
                        "passed_time": 0.347034024,
                        "remaining_time": 5.075372601,
                        "test": [
                          0.9593495935,
                          0.1999225678
                        ]
                      },
                      {
                        "learn": [
                          0.988259316,
                          0.172495596
                        ],
                        "iteration": 64,
                        "passed_time": 0.3519795468,
                        "remaining_time": 5.063090404,
                        "test": [
                          0.9621621622,
                          0.1989506059
                        ]
                      },
                      {
                        "learn": [
                          0.9882712902,
                          0.1712403286
                        ],
                        "iteration": 65,
                        "passed_time": 0.3571508043,
                        "remaining_time": 5.054225018,
                        "test": [
                          0.9623655914,
                          0.1984403573
                        ]
                      },
                      {
                        "learn": [
                          0.988259316,
                          0.1633750159
                        ],
                        "iteration": 66,
                        "passed_time": 0.3624358693,
                        "remaining_time": 5.047054717,
                        "test": [
                          0.9649595687,
                          0.1883014453
                        ]
                      },
                      {
                        "learn": [
                          0.9872253449,
                          0.1625649257
                        ],
                        "iteration": 67,
                        "passed_time": 0.3675050993,
                        "remaining_time": 5.036981656,
                        "test": [
                          0.9675675676,
                          0.1884043635
                        ]
                      },
                      {
                        "learn": [
                          0.988259316,
                          0.1597685609
                        ],
                        "iteration": 68,
                        "passed_time": 0.3726208581,
                        "remaining_time": 5.027681433,
                        "test": [
                          0.9649595687,
                          0.1861616549
                        ]
                      },
                      {
                        "learn": [
                          0.989280245,
                          0.1578697266
                        ],
                        "iteration": 69,
                        "passed_time": 0.3776311594,
                        "remaining_time": 5.017099689,
                        "test": [
                          0.9647696477,
                          0.1847992805
                        ]
                      },
                      {
                        "learn": [
                          0.9892692897,
                          0.1565826733
                        ],
                        "iteration": 70,
                        "passed_time": 0.3825280131,
                        "remaining_time": 5.005190482,
                        "test": [
                          0.9675675676,
                          0.1844299493
                        ]
                      },
                      {
                        "learn": [
                          0.9903011741,
                          0.155255844
                        ],
                        "iteration": 71,
                        "passed_time": 0.387650402,
                        "remaining_time": 4.996382959,
                        "test": [
                          0.9621621622,
                          0.1842484903
                        ]
                      },
                      {
                        "learn": [
                          0.9913309536,
                          0.1539566533
                        ],
                        "iteration": 72,
                        "passed_time": 0.3926344039,
                        "remaining_time": 4.985919074,
                        "test": [
                          0.9647696477,
                          0.1825458696
                        ]
                      },
                      {
                        "learn": [
                          0.9918367347,
                          0.1525632414
                        ],
                        "iteration": 73,
                        "passed_time": 0.3974545096,
                        "remaining_time": 4.973552377,
                        "test": [
                          0.9621621622,
                          0.1825066352
                        ]
                      },
                      {
                        "learn": [
                          0.9923508414,
                          0.1497841671
                        ],
                        "iteration": 74,
                        "passed_time": 0.4025185594,
                        "remaining_time": 4.964395566,
                        "test": [
                          0.9593495935,
                          0.181046893
                        ]
                      },
                      {
                        "learn": [
                          0.9913309536,
                          0.1482047476
                        ],
                        "iteration": 75,
                        "passed_time": 0.4095910816,
                        "remaining_time": 4.979765255,
                        "test": [
                          0.9647696477,
                          0.1795122728
                        ]
                      },
                      {
                        "learn": [
                          0.9913309536,
                          0.1432573125
                        ],
                        "iteration": 76,
                        "passed_time": 0.4177380885,
                        "remaining_time": 5.007431893,
                        "test": [
                          0.9621621622,
                          0.1747391048
                        ]
                      },
                      {
                        "learn": [
                          0.9918450561,
                          0.1377954336
                        ],
                        "iteration": 77,
                        "passed_time": 0.422582884,
                        "remaining_time": 4.995146398,
                        "test": [
                          0.9649595687,
                          0.1691402858
                        ]
                      },
                      {
                        "learn": [
                          0.9923508414,
                          0.1362578582
                        ],
                        "iteration": 78,
                        "passed_time": 0.427865249,
                        "remaining_time": 4.988150561,
                        "test": [
                          0.9647696477,
                          0.1682272334
                        ]
                      },
                      {
                        "learn": [
                          0.9928716904,
                          0.1337230581
                        ],
                        "iteration": 79,
                        "passed_time": 0.4328278714,
                        "remaining_time": 4.977520521,
                        "test": [
                          0.9675675676,
                          0.1652408424
                        ]
                      },
                      {
                        "learn": [
                          0.9944020356,
                          0.1295129681
                        ],
                        "iteration": 80,
                        "passed_time": 0.4382561828,
                        "remaining_time": 4.972313975,
                        "test": [
                          0.9675675676,
                          0.159846138
                        ]
                      },
                      {
                        "learn": [
                          0.9944020356,
                          0.1276706893
                        ],
                        "iteration": 81,
                        "passed_time": 0.443353902,
                        "remaining_time": 4.963401,
                        "test": [
                          0.9703504043,
                          0.1592122408
                        ]
                      },
                      {
                        "learn": [
                          0.9954198473,
                          0.1241778965
                        ],
                        "iteration": 82,
                        "passed_time": 0.4485660985,
                        "remaining_time": 4.955844726,
                        "test": [
                          0.9703504043,
                          0.1548918994
                        ]
                      },
                      {
                        "learn": [
                          0.9964412811,
                          0.1200086699
                        ],
                        "iteration": 83,
                        "passed_time": 0.4537110868,
                        "remaining_time": 4.947611375,
                        "test": [
                          0.9703504043,
                          0.1512649011
                        ]
                      },
                      {
                        "learn": [
                          0.9964412811,
                          0.1139388799
                        ],
                        "iteration": 84,
                        "passed_time": 0.4588796141,
                        "remaining_time": 4.939704081,
                        "test": [
                          0.9675675676,
                          0.1458955292
                        ]
                      },
                      {
                        "learn": [
                          0.9949186992,
                          0.1118270887
                        ],
                        "iteration": 85,
                        "passed_time": 0.4637515288,
                        "remaining_time": 4.928708109,
                        "test": [
                          0.9675675676,
                          0.14326537
                        ]
                      },
                      {
                        "learn": [
                          0.9959349593,
                          0.1078054252
                        ],
                        "iteration": 86,
                        "passed_time": 0.4686089737,
                        "remaining_time": 4.917701069,
                        "test": [
                          0.9675675676,
                          0.139055302
                        ]
                      },
                      {
                        "learn": [
                          0.9959349593,
                          0.1029529989
                        ],
                        "iteration": 87,
                        "passed_time": 0.4737632018,
                        "remaining_time": 4.909909546,
                        "test": [
                          0.9675675676,
                          0.1352413255
                        ]
                      },
                      {
                        "learn": [
                          0.9964448959,
                          0.1017307562
                        ],
                        "iteration": 88,
                        "passed_time": 0.4788413815,
                        "remaining_time": 4.90139886,
                        "test": [
                          0.9675675676,
                          0.1346159497
                        ]
                      },
                      {
                        "learn": [
                          0.9964448959,
                          0.1006734387
                        ],
                        "iteration": 89,
                        "passed_time": 0.4839618499,
                        "remaining_time": 4.893392038,
                        "test": [
                          0.9675675676,
                          0.1337046578
                        ]
                      },
                      {
                        "learn": [
                          0.9964448959,
                          0.09952608553
                        ],
                        "iteration": 90,
                        "passed_time": 0.489190746,
                        "remaining_time": 4.886531738,
                        "test": [
                          0.9675675676,
                          0.1333137187
                        ]
                      },
                      {
                        "learn": [
                          0.9964448959,
                          0.09859254552
                        ],
                        "iteration": 91,
                        "passed_time": 0.4943593835,
                        "remaining_time": 4.879112177,
                        "test": [
                          0.9675675676,
                          0.1324147048
                        ]
                      },
                      {
                        "learn": [
                          0.9964448959,
                          0.09764174975
                        ],
                        "iteration": 92,
                        "passed_time": 0.4993268458,
                        "remaining_time": 4.869779023,
                        "test": [
                          0.9703504043,
                          0.1307532456
                        ]
                      },
                      {
                        "learn": [
                          0.997458058,
                          0.09654182784
                        ],
                        "iteration": 93,
                        "passed_time": 0.5044120653,
                        "remaining_time": 4.861673736,
                        "test": [
                          0.9703504043,
                          0.1294269985
                        ]
                      },
                      {
                        "learn": [
                          0.996948118,
                          0.09378839157
                        ],
                        "iteration": 94,
                        "passed_time": 0.5093429583,
                        "remaining_time": 4.852161866,
                        "test": [
                          0.9731182796,
                          0.1255344456
                        ]
                      },
                      {
                        "learn": [
                          0.9964412811,
                          0.09310763184
                        ],
                        "iteration": 95,
                        "passed_time": 0.5145198054,
                        "remaining_time": 4.845061501,
                        "test": [
                          0.9705093834,
                          0.1248725791
                        ]
                      },
                      {
                        "learn": [
                          0.9974606399,
                          0.08417127235
                        ],
                        "iteration": 96,
                        "passed_time": 0.5195847453,
                        "remaining_time": 4.836959021,
                        "test": [
                          0.972972973,
                          0.1142721848
                        ]
                      },
                      {
                        "learn": [
                          0.9974606399,
                          0.08128673989
                        ],
                        "iteration": 97,
                        "passed_time": 0.5244728793,
                        "remaining_time": 4.827291195,
                        "test": [
                          0.972972973,
                          0.1110188103
                        ]
                      },
                      {
                        "learn": [
                          0.9974606399,
                          0.080430779
                        ],
                        "iteration": 98,
                        "passed_time": 0.5296513468,
                        "remaining_time": 4.820362257,
                        "test": [
                          0.9701897019,
                          0.1112152203
                        ]
                      },
                      {
                        "learn": [
                          0.9974606399,
                          0.07859401922
                        ],
                        "iteration": 99,
                        "passed_time": 0.5345492205,
                        "remaining_time": 4.810942985,
                        "test": [
                          0.972972973,
                          0.1094135999
                        ]
                      },
                      {
                        "learn": [
                          0.9979674797,
                          0.07660959862
                        ],
                        "iteration": 100,
                        "passed_time": 0.5392948178,
                        "remaining_time": 4.800257834,
                        "test": [
                          0.9757412399,
                          0.1069003737
                        ]
                      },
                      {
                        "learn": [
                          0.9979674797,
                          0.07580205181
                        ],
                        "iteration": 101,
                        "passed_time": 0.5446677203,
                        "remaining_time": 4.79521189,
                        "test": [
                          0.9784946237,
                          0.1061281762
                        ]
                      },
                      {
                        "learn": [
                          0.9979674797,
                          0.07364681247
                        ],
                        "iteration": 102,
                        "passed_time": 0.5497936588,
                        "remaining_time": 4.788008854,
                        "test": [
                          0.9784946237,
                          0.1037628846
                        ]
                      },
                      {
                        "learn": [
                          0.9984748348,
                          0.07290382735
                        ],
                        "iteration": 103,
                        "passed_time": 0.5547739408,
                        "remaining_time": 4.779590875,
                        "test": [
                          0.9811320755,
                          0.1035871037
                        ]
                      },
                      {
                        "learn": [
                          0.9984748348,
                          0.06904367389
                        ],
                        "iteration": 104,
                        "passed_time": 0.5595896569,
                        "remaining_time": 4.769835647,
                        "test": [
                          0.9837837838,
                          0.0986090735
                        ]
                      },
                      {
                        "learn": [
                          0.9984748348,
                          0.06291149007
                        ],
                        "iteration": 105,
                        "passed_time": 0.5648804515,
                        "remaining_time": 4.764180412,
                        "test": [
                          0.9837837838,
                          0.09146087857
                        ]
                      },
                      {
                        "learn": [
                          0.9984748348,
                          0.06236107244
                        ],
                        "iteration": 106,
                        "passed_time": 0.569923512,
                        "remaining_time": 4.756464451,
                        "test": [
                          0.9783783784,
                          0.09118420444
                        ]
                      },
                      {
                        "learn": [
                          0.9984748348,
                          0.06211898807
                        ],
                        "iteration": 107,
                        "passed_time": 0.5764470774,
                        "remaining_time": 4.761025862,
                        "test": [
                          0.9810298103,
                          0.09113494199
                        ]
                      },
                      {
                        "learn": [
                          0.9984748348,
                          0.06000136272
                        ],
                        "iteration": 108,
                        "passed_time": 0.5818199799,
                        "remaining_time": 4.755978001,
                        "test": [
                          0.9810298103,
                          0.08912307795
                        ]
                      },
                      {
                        "learn": [
                          0.9984748348,
                          0.0590073873
                        ],
                        "iteration": 109,
                        "passed_time": 0.5867047739,
                        "remaining_time": 4.746974989,
                        "test": [
                          0.9837837838,
                          0.0879777048
                        ]
                      },
                      {
                        "learn": [
                          0.9984748348,
                          0.05707796935
                        ],
                        "iteration": 110,
                        "passed_time": 0.5915404096,
                        "remaining_time": 4.737652469,
                        "test": [
                          0.9837837838,
                          0.08586595146
                        ]
                      },
                      {
                        "learn": [
                          0.9984748348,
                          0.05632715462
                        ],
                        "iteration": 111,
                        "passed_time": 0.5963378959,
                        "remaining_time": 4.728107603,
                        "test": [
                          0.9837837838,
                          0.08443139531
                        ]
                      },
                      {
                        "learn": [
                          0.9984748348,
                          0.05582221983
                        ],
                        "iteration": 112,
                        "passed_time": 0.6014386648,
                        "remaining_time": 4.721027395,
                        "test": [
                          0.9810298103,
                          0.08409084059
                        ]
                      },
                      {
                        "learn": [
                          0.9989837398,
                          0.05531502802
                        ],
                        "iteration": 113,
                        "passed_time": 0.6065544138,
                        "remaining_time": 4.714098339,
                        "test": [
                          0.9810298103,
                          0.08444251894
                        ]
                      },
                      {
                        "learn": [
                          0.9989837398,
                          0.05375882094
                        ],
                        "iteration": 114,
                        "passed_time": 0.6113754595,
                        "remaining_time": 4.704932884,
                        "test": [
                          0.9810298103,
                          0.08269877462
                        ]
                      },
                      {
                        "learn": [
                          0.9989837398,
                          0.05315978721
                        ],
                        "iteration": 115,
                        "passed_time": 0.6198335191,
                        "remaining_time": 4.723558887,
                        "test": [
                          0.9783783784,
                          0.08209126164
                        ]
                      },
                      {
                        "learn": [
                          0.9989837398,
                          0.052885835
                        ],
                        "iteration": 116,
                        "passed_time": 0.627697783,
                        "remaining_time": 4.737240533,
                        "test": [
                          0.9783783784,
                          0.08171890683
                        ]
                      },
                      {
                        "learn": [
                          0.9989837398,
                          0.05220513726
                        ],
                        "iteration": 117,
                        "passed_time": 0.6327036644,
                        "remaining_time": 4.729191796,
                        "test": [
                          0.9783783784,
                          0.08054424266
                        ]
                      },
                      {
                        "learn": [
                          0.9989837398,
                          0.05113213499
                        ],
                        "iteration": 118,
                        "passed_time": 0.6379226207,
                        "remaining_time": 4.722771671,
                        "test": [
                          0.9783783784,
                          0.07984512404
                        ]
                      },
                      {
                        "learn": [
                          0.999492128,
                          0.05059398128
                        ],
                        "iteration": 119,
                        "passed_time": 0.642920072,
                        "remaining_time": 4.714747195,
                        "test": [
                          0.9783783784,
                          0.07966325106
                        ]
                      },
                      {
                        "learn": [
                          0.999492128,
                          0.05017031631
                        ],
                        "iteration": 120,
                        "passed_time": 0.648376513,
                        "remaining_time": 4.710107065,
                        "test": [
                          0.9783783784,
                          0.07946277016
                        ]
                      },
                      {
                        "learn": [
                          0.999492128,
                          0.04908413388
                        ],
                        "iteration": 121,
                        "passed_time": 0.6543086124,
                        "remaining_time": 4.708876735,
                        "test": [
                          0.9783783784,
                          0.07807478474
                        ]
                      },
                      {
                        "learn": [
                          0.999492128,
                          0.04860437826
                        ],
                        "iteration": 122,
                        "passed_time": 0.6593738924,
                        "remaining_time": 4.70138946,
                        "test": [
                          0.9810298103,
                          0.07771417462
                        ]
                      },
                      {
                        "learn": [
                          0.999492128,
                          0.04650493467
                        ],
                        "iteration": 123,
                        "passed_time": 0.6645042006,
                        "remaining_time": 4.694400643,
                        "test": [
                          0.9810298103,
                          0.07538390516
                        ]
                      },
                      {
                        "learn": [
                          0.999492128,
                          0.04614914315
                        ],
                        "iteration": 124,
                        "passed_time": 0.6695318317,
                        "remaining_time": 4.686722822,
                        "test": [
                          0.9836956522,
                          0.07459838563
                        ]
                      },
                      {
                        "learn": [
                          1,
                          0.04576352247
                        ],
                        "iteration": 125,
                        "passed_time": 0.6746856797,
                        "remaining_time": 4.679962572,
                        "test": [
                          0.9836956522,
                          0.07434700324
                        ]
                      },
                      {
                        "learn": [
                          1,
                          0.04237640908
                        ],
                        "iteration": 126,
                        "passed_time": 0.6795024758,
                        "remaining_time": 4.67091072,
                        "test": [
                          0.9836956522,
                          0.07010279001
                        ]
                      },
                      {
                        "learn": [
                          1,
                          0.04125674867
                        ],
                        "iteration": 127,
                        "passed_time": 0.6844344287,
                        "remaining_time": 4.662709546,
                        "test": [
                          0.9836956522,
                          0.06896694031
                        ]
                      },
                      {
                        "learn": [
                          1,
                          0.04106579689
                        ],
                        "iteration": 128,
                        "passed_time": 0.6893255626,
                        "remaining_time": 4.65428345,
                        "test": [
                          0.9836956522,
                          0.06898319656
                        ]
                      },
                      {
                        "learn": [
                          1,
                          0.04062691337
                        ],
                        "iteration": 129,
                        "passed_time": 0.6943023847,
                        "remaining_time": 4.64648519,
                        "test": [
                          0.9836956522,
                          0.06914992747
                        ]
                      },
                      {
                        "learn": [
                          1,
                          0.04028774377
                        ],
                        "iteration": 130,
                        "passed_time": 0.6992554273,
                        "remaining_time": 4.638572262,
                        "test": [
                          0.9836956522,
                          0.06911574782
                        ]
                      },
                      {
                        "learn": [
                          1,
                          0.04019675363
                        ],
                        "iteration": 131,
                        "passed_time": 0.7043655062,
                        "remaining_time": 4.631736814,
                        "test": [
                          0.9836956522,
                          0.06892165434
                        ]
                      },
                      {
                        "learn": [
                          1,
                          0.03992938379
                        ],
                        "iteration": 132,
                        "passed_time": 0.7095471536,
                        "remaining_time": 4.625393851,
                        "test": [
                          0.9836956522,
                          0.06899341467
                        ]
                      },
                      {
                        "learn": [
                          1,
                          0.03969392983
                        ],
                        "iteration": 133,
                        "passed_time": 0.714594594,
                        "remaining_time": 4.618200884,
                        "test": [
                          0.9836956522,
                          0.06865388332
                        ]
                      },
                      {
                        "learn": [
                          1,
                          0.03931651743
                        ],
                        "iteration": 134,
                        "passed_time": 0.7196839037,
                        "remaining_time": 4.611307975,
                        "test": [
                          0.9836956522,
                          0.06840702189
                        ]
                      },
                      {
                        "learn": [
                          1,
                          0.03901525763
                        ],
                        "iteration": 135,
                        "passed_time": 0.7246966649,
                        "remaining_time": 4.603955283,
                        "test": [
                          0.9836956522,
                          0.06827998568
                        ]
                      },
                      {
                        "learn": [
                          1,
                          0.03866791687
                        ],
                        "iteration": 136,
                        "passed_time": 0.7296450578,
                        "remaining_time": 4.596231277,
                        "test": [
                          0.9836956522,
                          0.06812857162
                        ]
                      },
                      {
                        "learn": [
                          1,
                          0.03710790339
                        ],
                        "iteration": 137,
                        "passed_time": 0.7345199525,
                        "remaining_time": 4.588088399,
                        "test": [
                          0.9836956522,
                          0.06641960289
                        ]
                      },
                      {
                        "learn": [
                          1,
                          0.0363603883
                        ],
                        "iteration": 138,
                        "passed_time": 0.7449077864,
                        "remaining_time": 4.614141036,
                        "test": [
                          0.9836956522,
                          0.06539075465
                        ]
                      },
                      {
                        "learn": [
                          1,
                          0.0361357414
                        ],
                        "iteration": 139,
                        "passed_time": 0.7520505273,
                        "remaining_time": 4.619738954,
                        "test": [
                          0.9863760218,
                          0.06558010534
                        ]
                      },
                      {
                        "learn": [
                          1,
                          0.03583225543
                        ],
                        "iteration": 140,
                        "passed_time": 0.7589688332,
                        "remaining_time": 4.623788849,
                        "test": [
                          0.9863760218,
                          0.06566429472
                        ]
                      },
                      {
                        "learn": [
                          1,
                          0.03525591044
                        ],
                        "iteration": 141,
                        "passed_time": 0.7637931989,
                        "remaining_time": 4.615032145,
                        "test": [
                          0.9863760218,
                          0.06438917967
                        ]
                      },
                      {
                        "learn": [
                          1,
                          0.03506094923
                        ],
                        "iteration": 142,
                        "passed_time": 0.76881088,
                        "remaining_time": 4.60748898,
                        "test": [
                          0.9836956522,
                          0.06457322043
                        ]
                      },
                      {
                        "learn": [
                          1,
                          0.0348269814
                        ],
                        "iteration": 143,
                        "passed_time": 0.7738248514,
                        "remaining_time": 4.599958839,
                        "test": [
                          0.9863760218,
                          0.0643195532
                        ]
                      },
                      {
                        "learn": [
                          1,
                          0.03452879516
                        ],
                        "iteration": 144,
                        "passed_time": 0.7787337253,
                        "remaining_time": 4.59184369,
                        "test": [
                          0.9836956522,
                          0.06412558531
                        ]
                      },
                      {
                        "learn": [
                          1,
                          0.03394402724
                        ],
                        "iteration": 145,
                        "passed_time": 0.7837263167,
                        "remaining_time": 4.584262154,
                        "test": [
                          0.9836956522,
                          0.06385425073
                        ]
                      },
                      {
                        "learn": [
                          1,
                          0.03127775059
                        ],
                        "iteration": 146,
                        "passed_time": 0.7886014812,
                        "remaining_time": 4.576034445,
                        "test": [
                          0.9836956522,
                          0.06053849094
                        ]
                      },
                      {
                        "learn": [
                          1,
                          0.03111351823
                        ],
                        "iteration": 147,
                        "passed_time": 0.7934423665,
                        "remaining_time": 4.567654704,
                        "test": [
                          0.9863760218,
                          0.06004305496
                        ]
                      },
                      {
                        "learn": [
                          1,
                          0.03094583913
                        ],
                        "iteration": 148,
                        "passed_time": 0.7984891069,
                        "remaining_time": 4.560498188,
                        "test": [
                          0.9863760218,
                          0.06016340499
                        ]
                      },
                      {
                        "learn": [
                          1,
                          0.0307866533
                        ],
                        "iteration": 149,
                        "passed_time": 0.8034122302,
                        "remaining_time": 4.552669305,
                        "test": [
                          0.9863760218,
                          0.0603896141
                        ]
                      },
                      {
                        "learn": [
                          1,
                          0.03021131744
                        ],
                        "iteration": 150,
                        "passed_time": 0.8086158972,
                        "remaining_time": 4.546456269,
                        "test": [
                          0.9863760218,
                          0.05953046581
                        ]
                      },
                      {
                        "learn": [
                          1,
                          0.02995637086
                        ],
                        "iteration": 151,
                        "passed_time": 0.8135661296,
                        "remaining_time": 4.538842618,
                        "test": [
                          0.9863760218,
                          0.05922706823
                        ]
                      },
                      {
                        "learn": [
                          1,
                          0.02976455652
                        ],
                        "iteration": 152,
                        "passed_time": 0.8186974978,
                        "remaining_time": 4.53226654,
                        "test": [
                          0.9863760218,
                          0.05907315951
                        ]
                      },
                      {
                        "learn": [
                          1,
                          0.02953477381
                        ],
                        "iteration": 153,
                        "passed_time": 0.8236369608,
                        "remaining_time": 4.524654992,
                        "test": [
                          0.9863760218,
                          0.05844890413
                        ]
                      },
                      {
                        "learn": [
                          1,
                          0.02882896087
                        ],
                        "iteration": 154,
                        "passed_time": 0.8286151028,
                        "remaining_time": 4.517288786,
                        "test": [
                          0.9863760218,
                          0.05735461815
                        ]
                      },
                      {
                        "learn": [
                          1,
                          0.02816527926
                        ],
                        "iteration": 155,
                        "passed_time": 0.8338735582,
                        "remaining_time": 4.511469764,
                        "test": [
                          0.9863760218,
                          0.05670717648
                        ]
                      },
                      {
                        "learn": [
                          1,
                          0.02793484402
                        ],
                        "iteration": 156,
                        "passed_time": 0.8388688598,
                        "remaining_time": 4.504244897,
                        "test": [
                          0.9836956522,
                          0.05627177912
                        ]
                      },
                      {
                        "learn": [
                          1,
                          0.02772474644
                        ],
                        "iteration": 157,
                        "passed_time": 0.8439583094,
                        "remaining_time": 4.497549978,
                        "test": [
                          0.9836956522,
                          0.05579511389
                        ]
                      },
                      {
                        "learn": [
                          1,
                          0.02697038915
                        ],
                        "iteration": 158,
                        "passed_time": 0.8490459991,
                        "remaining_time": 4.490865945,
                        "test": [
                          0.9863760218,
                          0.05504239226
                        ]
                      },
                      {
                        "learn": [
                          1,
                          0.02630912511
                        ],
                        "iteration": 159,
                        "passed_time": 0.8538445254,
                        "remaining_time": 4.482683758,
                        "test": [
                          0.9890710383,
                          0.05398623586
                        ]
                      },
                      {
                        "learn": [
                          1,
                          0.02622248396
                        ],
                        "iteration": 160,
                        "passed_time": 0.8589870435,
                        "remaining_time": 4.476336208,
                        "test": [
                          0.9890710383,
                          0.053779739
                        ]
                      },
                      {
                        "learn": [
                          1,
                          0.02574492476
                        ],
                        "iteration": 161,
                        "passed_time": 0.8638844675,
                        "remaining_time": 4.468735702,
                        "test": [
                          0.9890710383,
                          0.05318306302
                        ]
                      },
                      {
                        "learn": [
                          1,
                          0.02454925389
                        ],
                        "iteration": 162,
                        "passed_time": 0.8697899578,
                        "remaining_time": 4.466344752,
                        "test": [
                          0.9890710383,
                          0.05120482677
                        ]
                      },
                      {
                        "learn": [
                          1,
                          0.02442985247
                        ],
                        "iteration": 163,
                        "passed_time": 0.8749074263,
                        "remaining_time": 4.459893953,
                        "test": [
                          0.9890710383,
                          0.05099451445
                        ]
                      },
                      {
                        "learn": [
                          1,
                          0.02363453122
                        ],
                        "iteration": 164,
                        "passed_time": 0.8799049478,
                        "remaining_time": 4.452852312,
                        "test": [
                          0.9890710383,
                          0.04996275051
                        ]
                      },
                      {
                        "learn": [
                          1,
                          0.023588384
                        ],
                        "iteration": 165,
                        "passed_time": 0.8850582759,
                        "remaining_time": 4.446618085,
                        "test": [
                          0.9890710383,
                          0.04991947518
                        ]
                      },
                      {
                        "learn": [
                          1,
                          0.02340309394
                        ],
                        "iteration": 166,
                        "passed_time": 0.8901981044,
                        "remaining_time": 4.440329467,
                        "test": [
                          0.9890710383,
                          0.04970825629
                        ]
                      },
                      {
                        "learn": [
                          1,
                          0.02322262992
                        ],
                        "iteration": 167,
                        "passed_time": 0.8950276197,
                        "remaining_time": 4.432517736,
                        "test": [
                          0.9890710383,
                          0.04931104174
                        ]
                      },
                      {
                        "learn": [
                          1,
                          0.02317386897
                        ],
                        "iteration": 168,
                        "passed_time": 0.9002673355,
                        "remaining_time": 4.426758319,
                        "test": [
                          0.9890710383,
                          0.04926664617
                        ]
                      },
                      {
                        "learn": [
                          1,
                          0.02313045001
                        ],
                        "iteration": 169,
                        "passed_time": 0.9052743271,
                        "remaining_time": 4.419868774,
                        "test": [
                          0.9863760218,
                          0.04910816175
                        ]
                      },
                      {
                        "learn": [
                          1,
                          0.02286945655
                        ],
                        "iteration": 170,
                        "passed_time": 0.9105563619,
                        "remaining_time": 4.414334644,
                        "test": [
                          0.9863760218,
                          0.048625566
                        ]
                      },
                      {
                        "learn": [
                          1,
                          0.0228352243
                        ],
                        "iteration": 171,
                        "passed_time": 0.9156832702,
                        "remaining_time": 4.408056673,
                        "test": [
                          0.9863760218,
                          0.04860932029
                        ]
                      },
                      {
                        "learn": [
                          1,
                          0.02259419263
                        ],
                        "iteration": 172,
                        "passed_time": 0.9213750456,
                        "remaining_time": 4.40449227,
                        "test": [
                          0.9863760218,
                          0.04791848358
                        ]
                      },
                      {
                        "learn": [
                          1,
                          0.02238087403
                        ],
                        "iteration": 173,
                        "passed_time": 0.9293421266,
                        "remaining_time": 4.411704578,
                        "test": [
                          0.9863760218,
                          0.04750386417
                        ]
                      },
                      {
                        "learn": [
                          1,
                          0.02212614755
                        ],
                        "iteration": 174,
                        "passed_time": 0.9372546893,
                        "remaining_time": 4.418486392,
                        "test": [
                          0.9863760218,
                          0.04682564584
                        ]
                      },
                      {
                        "learn": [
                          1,
                          0.02199456595
                        ],
                        "iteration": 175,
                        "passed_time": 0.942448336,
                        "remaining_time": 4.412371755,
                        "test": [
                          0.9863760218,
                          0.04701686659
                        ]
                      },
                      {
                        "learn": [
                          1,
                          0.02190426366
                        ],
                        "iteration": 176,
                        "passed_time": 0.9475085561,
                        "remaining_time": 4.405647128,
                        "test": [
                          0.9863760218,
                          0.04691087438
                        ]
                      },
                      {
                        "learn": [
                          1,
                          0.02166008487
                        ],
                        "iteration": 177,
                        "passed_time": 0.9525464465,
                        "remaining_time": 4.398838084,
                        "test": [
                          0.9890710383,
                          0.0463118219
                        ]
                      },
                      {
                        "learn": [
                          1,
                          0.02089343142
                        ],
                        "iteration": 178,
                        "passed_time": 0.9577773727,
                        "remaining_time": 4.392934207,
                        "test": [
                          0.9863760218,
                          0.04539511895
                        ]
                      },
                      {
                        "learn": [
                          1,
                          0.01969215945
                        ],
                        "iteration": 179,
                        "passed_time": 0.9677415068,
                        "remaining_time": 4.408600198,
                        "test": [
                          0.9890710383,
                          0.0436800568
                        ]
                      },
                      {
                        "learn": [
                          1,
                          0.01957758089
                        ],
                        "iteration": 180,
                        "passed_time": 0.977430447,
                        "remaining_time": 4.422737769,
                        "test": [
                          0.9890710383,
                          0.04352899797
                        ]
                      },
                      {
                        "learn": [
                          1,
                          0.01950851677
                        ],
                        "iteration": 181,
                        "passed_time": 0.9824566177,
                        "remaining_time": 4.415656666,
                        "test": [
                          0.9890710383,
                          0.04323645041
                        ]
                      },
                      {
                        "learn": [
                          1,
                          0.01942620893
                        ],
                        "iteration": 182,
                        "passed_time": 0.9876452947,
                        "remaining_time": 4.409323529,
                        "test": [
                          0.9890710383,
                          0.04304661146
                        ]
                      },
                      {
                        "learn": [
                          1,
                          0.01926458792
                        ],
                        "iteration": 183,
                        "passed_time": 0.992781273,
                        "remaining_time": 4.402769124,
                        "test": [
                          0.9890710383,
                          0.04273124689
                        ]
                      },
                      {
                        "learn": [
                          1,
                          0.01910892765
                        ],
                        "iteration": 184,
                        "passed_time": 0.9978681627,
                        "remaining_time": 4.396013798,
                        "test": [
                          0.9890710383,
                          0.04252127317
                        ]
                      },
                      {
                        "learn": [
                          1,
                          0.01897766677
                        ],
                        "iteration": 185,
                        "passed_time": 1.002989581,
                        "remaining_time": 4.389427523,
                        "test": [
                          0.9890710383,
                          0.04239067907
                        ]
                      },
                      {
                        "learn": [
                          1,
                          0.01889720589
                        ],
                        "iteration": 186,
                        "passed_time": 1.008071701,
                        "remaining_time": 4.382686058,
                        "test": [
                          0.9890710383,
                          0.04218947453
                        ]
                      },
                      {
                        "learn": [
                          1,
                          0.01875522321
                        ],
                        "iteration": 187,
                        "passed_time": 1.013112232,
                        "remaining_time": 4.375782618,
                        "test": [
                          0.9890710383,
                          0.0421097007
                        ]
                      },
                      {
                        "learn": [
                          1,
                          0.01862235327
                        ],
                        "iteration": 188,
                        "passed_time": 1.017989366,
                        "remaining_time": 4.368197757,
                        "test": [
                          0.9890710383,
                          0.04199711806
                        ]
                      },
                      {
                        "learn": [
                          1,
                          0.01851732944
                        ],
                        "iteration": 189,
                        "passed_time": 1.022971028,
                        "remaining_time": 4.361087015,
                        "test": [
                          0.9890710383,
                          0.04190730258
                        ]
                      },
                      {
                        "learn": [
                          1,
                          0.01841214657
                        ],
                        "iteration": 190,
                        "passed_time": 1.02921947,
                        "remaining_time": 4.359364143,
                        "test": [
                          0.9890710383,
                          0.04193876871
                        ]
                      },
                      {
                        "learn": [
                          1,
                          0.01838620147
                        ],
                        "iteration": 191,
                        "passed_time": 1.03427338,
                        "remaining_time": 4.352567143,
                        "test": [
                          0.9890710383,
                          0.04182476273
                        ]
                      },
                      {
                        "learn": [
                          1,
                          0.01827983039
                        ],
                        "iteration": 192,
                        "passed_time": 1.039144545,
                        "remaining_time": 4.345024082,
                        "test": [
                          0.9890710383,
                          0.04175594135
                        ]
                      },
                      {
                        "learn": [
                          1,
                          0.01822261501
                        ],
                        "iteration": 193,
                        "passed_time": 1.044246714,
                        "remaining_time": 4.338468308,
                        "test": [
                          0.9890710383,
                          0.04173634019
                        ]
                      },
                      {
                        "learn": [
                          1,
                          0.01760130472
                        ],
                        "iteration": 194,
                        "passed_time": 1.04905961,
                        "remaining_time": 4.330733262,
                        "test": [
                          0.9890710383,
                          0.04072033362
                        ]
                      },
                      {
                        "learn": [
                          1,
                          0.01691120085
                        ],
                        "iteration": 195,
                        "passed_time": 1.053946324,
                        "remaining_time": 4.32333084,
                        "test": [
                          0.9890710383,
                          0.03954610475
                        ]
                      },
                      {
                        "learn": [
                          1,
                          0.01683736945
                        ],
                        "iteration": 196,
                        "passed_time": 1.059114532,
                        "remaining_time": 4.317101366,
                        "test": [
                          0.9890710383,
                          0.03933119355
                        ]
                      },
                      {
                        "learn": [
                          1,
                          0.01625349411
                        ],
                        "iteration": 197,
                        "passed_time": 1.064310078,
                        "remaining_time": 4.310993348,
                        "test": [
                          0.9890710383,
                          0.03865434622
                        ]
                      },
                      {
                        "learn": [
                          1,
                          0.01615131875
                        ],
                        "iteration": 198,
                        "passed_time": 1.069235272,
                        "remaining_time": 4.303806296,
                        "test": [
                          0.9863760218,
                          0.03853972057
                        ]
                      },
                      {
                        "learn": [
                          1,
                          0.01611213119
                        ],
                        "iteration": 199,
                        "passed_time": 1.074147466,
                        "remaining_time": 4.296589863,
                        "test": [
                          0.9890710383,
                          0.03839005539
                        ]
                      },
                      {
                        "learn": [
                          1,
                          0.01581689556
                        ],
                        "iteration": 200,
                        "passed_time": 1.078949812,
                        "remaining_time": 4.288959701,
                        "test": [
                          0.9890710383,
                          0.03798620941
                        ]
                      },
                      {
                        "learn": [
                          1,
                          0.01574697504
                        ],
                        "iteration": 201,
                        "passed_time": 1.084360854,
                        "remaining_time": 4.283762184,
                        "test": [
                          0.9890710383,
                          0.03785785007
                        ]
                      },
                      {
                        "learn": [
                          1,
                          0.0155684449
                        ],
                        "iteration": 202,
                        "passed_time": 1.08915217,
                        "remaining_time": 4.276129455,
                        "test": [
                          0.9917808219,
                          0.03733123804
                        ]
                      },
                      {
                        "learn": [
                          1,
                          0.01472983596
                        ],
                        "iteration": 203,
                        "passed_time": 1.094139801,
                        "remaining_time": 4.269290598,
                        "test": [
                          0.9917808219,
                          0.03627589695
                        ]
                      },
                      {
                        "learn": [
                          1,
                          0.01469584389
                        ],
                        "iteration": 204,
                        "passed_time": 1.099228871,
                        "remaining_time": 4.262863183,
                        "test": [
                          0.9917808219,
                          0.03631599904
                        ]
                      },
                      {
                        "learn": [
                          1,
                          0.01463334453
                        ],
                        "iteration": 205,
                        "passed_time": 1.10433753,
                        "remaining_time": 4.256524266,
                        "test": [
                          0.9917808219,
                          0.03611943969
                        ]
                      },
                      {
                        "learn": [
                          1,
                          0.01450640581
                        ],
                        "iteration": 206,
                        "passed_time": 1.109349401,
                        "remaining_time": 4.249826451,
                        "test": [
                          0.9917808219,
                          0.03587420521
                        ]
                      },
                      {
                        "learn": [
                          1,
                          0.01445411997
                        ],
                        "iteration": 207,
                        "passed_time": 1.114302534,
                        "remaining_time": 4.242921188,
                        "test": [
                          0.9917808219,
                          0.03554907888
                        ]
                      },
                      {
                        "learn": [
                          1,
                          0.01437799054
                        ],
                        "iteration": 208,
                        "passed_time": 1.119216228,
                        "remaining_time": 4.235885342,
                        "test": [
                          0.9890710383,
                          0.03506998486
                        ]
                      },
                      {
                        "learn": [
                          1,
                          0.01430125884
                        ],
                        "iteration": 209,
                        "passed_time": 1.124087273,
                        "remaining_time": 4.228709264,
                        "test": [
                          0.9890710383,
                          0.03484314107
                        ]
                      },
                      {
                        "learn": [
                          1,
                          0.01422389897
                        ],
                        "iteration": 210,
                        "passed_time": 1.128867969,
                        "remaining_time": 4.221217193,
                        "test": [
                          0.9890710383,
                          0.03468486989
                        ]
                      },
                      {
                        "learn": [
                          1,
                          0.01419672081
                        ],
                        "iteration": 211,
                        "passed_time": 1.133756283,
                        "remaining_time": 4.214150713,
                        "test": [
                          0.9890710383,
                          0.03471547084
                        ]
                      },
                      {
                        "learn": [
                          1,
                          0.01415752208
                        ],
                        "iteration": 212,
                        "passed_time": 1.138834323,
                        "remaining_time": 4.20780569,
                        "test": [
                          0.9890710383,
                          0.03470546735
                        ]
                      },
                      {
                        "learn": [
                          1,
                          0.01409628336
                        ],
                        "iteration": 213,
                        "passed_time": 1.143630379,
                        "remaining_time": 4.200436812,
                        "test": [
                          0.9890710383,
                          0.03463882359
                        ]
                      },
                      {
                        "learn": [
                          1,
                          0.01409618196
                        ],
                        "iteration": 214,
                        "passed_time": 1.148699459,
                        "remaining_time": 4.194088721,
                        "test": [
                          0.9890710383,
                          0.03463823171
                        ]
                      },
                      {
                        "learn": [
                          1,
                          0.01404289463
                        ],
                        "iteration": 215,
                        "passed_time": 1.153758899,
                        "remaining_time": 4.187717485,
                        "test": [
                          0.9890710383,
                          0.03467795586
                        ]
                      },
                      {
                        "learn": [
                          1,
                          0.01401945194
                        ],
                        "iteration": 216,
                        "passed_time": 1.158667083,
                        "remaining_time": 4.180812561,
                        "test": [
                          0.9890710383,
                          0.03470924721
                        ]
                      },
                      {
                        "learn": [
                          1,
                          0.01395532599
                        ],
                        "iteration": 217,
                        "passed_time": 1.163699363,
                        "remaining_time": 4.174371111,
                        "test": [
                          0.9890710383,
                          0.0345868559
                        ]
                      },
                      {
                        "learn": [
                          1,
                          0.01362857582
                        ],
                        "iteration": 218,
                        "passed_time": 1.168837492,
                        "remaining_time": 4.168320005,
                        "test": [
                          0.9890710383,
                          0.03431061184
                        ]
                      },
                      {
                        "learn": [
                          1,
                          0.01352655391
                        ],
                        "iteration": 219,
                        "passed_time": 1.173908542,
                        "remaining_time": 4.162039376,
                        "test": [
                          0.9890710383,
                          0.03411874925
                        ]
                      },
                      {
                        "learn": [
                          1,
                          0.01352650686
                        ],
                        "iteration": 220,
                        "passed_time": 1.178828335,
                        "remaining_time": 4.155236531,
                        "test": [
                          0.9890710383,
                          0.03411853678
                        ]
                      },
                      {
                        "learn": [
                          1,
                          0.01348807591
                        ],
                        "iteration": 221,
                        "passed_time": 1.18369741,
                        "remaining_time": 4.148272906,
                        "test": [
                          0.9890710383,
                          0.0341169797
                        ]
                      },
                      {
                        "learn": [
                          1,
                          0.01341507706
                        ],
                        "iteration": 222,
                        "passed_time": 1.188621664,
                        "remaining_time": 4.141520326,
                        "test": [
                          0.9890710383,
                          0.03427673746
                        ]
                      },
                      {
                        "learn": [
                          1,
                          0.01337501508
                        ],
                        "iteration": 223,
                        "passed_time": 1.193532807,
                        "remaining_time": 4.134738654,
                        "test": [
                          0.9863760218,
                          0.0342707077
                        ]
                      },
                      {
                        "learn": [
                          1,
                          0.01328531625
                        ],
                        "iteration": 224,
                        "passed_time": 1.199085396,
                        "remaining_time": 4.13018303,
                        "test": [
                          0.9863760218,
                          0.03429777291
                        ]
                      },
                      {
                        "learn": [
                          1,
                          0.01325204743
                        ],
                        "iteration": 225,
                        "passed_time": 1.204169555,
                        "remaining_time": 4.124014318,
                        "test": [
                          0.9863760218,
                          0.03436608316
                        ]
                      },
                      {
                        "learn": [
                          1,
                          0.01312612718
                        ],
                        "iteration": 226,
                        "passed_time": 1.208947162,
                        "remaining_time": 4.116811262,
                        "test": [
                          0.9863760218,
                          0.03429377657
                        ]
                      },
                      {
                        "learn": [
                          1,
                          0.01287048967
                        ],
                        "iteration": 227,
                        "passed_time": 1.213801737,
                        "remaining_time": 4.109890092,
                        "test": [
                          0.9863760218,
                          0.03387504018
                        ]
                      },
                      {
                        "learn": [
                          1,
                          0.01287039789
                        ],
                        "iteration": 228,
                        "passed_time": 1.218780719,
                        "remaining_time": 4.103405827,
                        "test": [
                          0.9863760218,
                          0.03387459549
                        ]
                      },
                      {
                        "learn": [
                          1,
                          0.01260635283
                        ],
                        "iteration": 229,
                        "passed_time": 1.223847639,
                        "remaining_time": 4.097229052,
                        "test": [
                          0.9863760218,
                          0.03364559295
                        ]
                      },
                      {
                        "learn": [
                          1,
                          0.01258183445
                        ],
                        "iteration": 230,
                        "passed_time": 1.230286946,
                        "remaining_time": 4.09563057,
                        "test": [
                          0.9890710383,
                          0.03339224868
                        ]
                      },
                      {
                        "learn": [
                          1,
                          0.01198696454
                        ],
                        "iteration": 231,
                        "passed_time": 1.236116378,
                        "remaining_time": 4.091971458,
                        "test": [
                          0.9890710383,
                          0.03240027108
                        ]
                      },
                      {
                        "learn": [
                          1,
                          0.0118393137
                        ],
                        "iteration": 232,
                        "passed_time": 1.243336397,
                        "remaining_time": 4.092871316,
                        "test": [
                          0.9890710383,
                          0.03221778898
                        ]
                      },
                      {
                        "learn": [
                          1,
                          0.01179802595
                        ],
                        "iteration": 233,
                        "passed_time": 1.248468046,
                        "remaining_time": 4.086865483,
                        "test": [
                          0.9890710383,
                          0.03208499948
                        ]
                      },
                      {
                        "learn": [
                          1,
                          0.01179754679
                        ],
                        "iteration": 234,
                        "passed_time": 1.253507636,
                        "remaining_time": 4.080567412,
                        "test": [
                          0.9890710383,
                          0.03208260456
                        ]
                      },
                      {
                        "learn": [
                          1,
                          0.01179749884
                        ],
                        "iteration": 235,
                        "passed_time": 1.258518568,
                        "remaining_time": 4.074187227,
                        "test": [
                          0.9890710383,
                          0.0320823637
                        ]
                      },
                      {
                        "learn": [
                          1,
                          0.01171616759
                        ],
                        "iteration": 236,
                        "passed_time": 1.263698955,
                        "remaining_time": 4.068364146,
                        "test": [
                          0.9890710383,
                          0.03191929139
                        ]
                      },
                      {
                        "learn": [
                          1,
                          0.01171559124
                        ],
                        "iteration": 237,
                        "passed_time": 1.268698587,
                        "remaining_time": 4.061967744,
                        "test": [
                          0.9890710383,
                          0.03191646622
                        ]
                      },
                      {
                        "learn": [
                          1,
                          0.01167027665
                        ],
                        "iteration": 238,
                        "passed_time": 1.273848125,
                        "remaining_time": 4.056060347,
                        "test": [
                          0.9890710383,
                          0.03193788065
                        ]
                      },
                      {
                        "learn": [
                          1,
                          0.01163779922
                        ],
                        "iteration": 239,
                        "passed_time": 1.282161897,
                        "remaining_time": 4.060179342,
                        "test": [
                          0.9863760218,
                          0.03194074143
                        ]
                      },
                      {
                        "learn": [
                          1,
                          0.01163778877
                        ],
                        "iteration": 240,
                        "passed_time": 1.287081171,
                        "remaining_time": 4.053504601,
                        "test": [
                          0.9863760218,
                          0.03194070809
                        ]
                      },
                      {
                        "learn": [
                          1,
                          0.01163777743
                        ],
                        "iteration": 241,
                        "passed_time": 1.292027864,
                        "remaining_time": 4.046930252,
                        "test": [
                          0.9863760218,
                          0.0319406527
                        ]
                      },
                      {
                        "learn": [
                          1,
                          0.01147241365
                        ],
                        "iteration": 242,
                        "passed_time": 1.296997296,
                        "remaining_time": 4.040440137,
                        "test": [
                          0.9863760218,
                          0.03172792062
                        ]
                      },
                      {
                        "learn": [
                          1,
                          0.0114436217
                        ],
                        "iteration": 243,
                        "passed_time": 1.302120135,
                        "remaining_time": 4.034437795,
                        "test": [
                          0.9863760218,
                          0.03168419981
                        ]
                      },
                      {
                        "learn": [
                          1,
                          0.01141720865
                        ],
                        "iteration": 244,
                        "passed_time": 1.307230924,
                        "remaining_time": 4.0284055,
                        "test": [
                          0.9863760218,
                          0.03155358462
                        ]
                      },
                      {
                        "learn": [
                          1,
                          0.01138041024
                        ],
                        "iteration": 245,
                        "passed_time": 1.313566543,
                        "remaining_time": 4.026134853,
                        "test": [
                          0.9863760218,
                          0.03138503405
                        ]
                      },
                      {
                        "learn": [
                          1,
                          0.01132671129
                        ],
                        "iteration": 246,
                        "passed_time": 1.318424779,
                        "remaining_time": 4.019327361,
                        "test": [
                          0.9863760218,
                          0.03137433489
                        ]
                      },
                      {
                        "learn": [
                          1,
                          0.01129846704
                        ],
                        "iteration": 247,
                        "passed_time": 1.324753359,
                        "remaining_time": 4.016994056,
                        "test": [
                          0.9863760218,
                          0.03130948669
                        ]
                      },
                      {
                        "learn": [
                          1,
                          0.01127792398
                        ],
                        "iteration": 248,
                        "passed_time": 1.332098565,
                        "remaining_time": 4.017694868,
                        "test": [
                          0.9863760218,
                          0.03130688075
                        ]
                      },
                      {
                        "learn": [
                          1,
                          0.01126896132
                        ],
                        "iteration": 249,
                        "passed_time": 1.337352331,
                        "remaining_time": 4.012056992,
                        "test": [
                          0.9863760218,
                          0.03129056773
                        ]
                      },
                      {
                        "learn": [
                          1,
                          0.01108272419
                        ],
                        "iteration": 250,
                        "passed_time": 1.342393501,
                        "remaining_time": 4.005787779,
                        "test": [
                          0.9890710383,
                          0.03101862454
                        ]
                      },
                      {
                        "learn": [
                          1,
                          0.01104989731
                        ],
                        "iteration": 251,
                        "passed_time": 1.34750717,
                        "remaining_time": 3.999743506,
                        "test": [
                          0.9863760218,
                          0.03094139454
                        ]
                      },
                      {
                        "learn": [
                          1,
                          0.01095890822
                        ],
                        "iteration": 252,
                        "passed_time": 1.355885122,
                        "remaining_time": 4.003344608,
                        "test": [
                          0.9863760218,
                          0.03075340879
                        ]
                      }
                    ],
                    "meta": {
                      "test_sets": [
                        "test"
                      ],
                      "test_metrics": [
                        {
                          "best_value": "Max",
                          "name": "F1"
                        },
                        {
                          "best_value": "Min",
                          "name": "Logloss"
                        }
                      ],
                      "learn_metrics": [
                        {
                          "best_value": "Max",
                          "name": "F1"
                        },
                        {
                          "best_value": "Min",
                          "name": "Logloss"
                        }
                      ],
                      "launch_mode": "Train",
                      "parameters": "",
                      "iteration_count": 1000,
                      "learn_sets": [
                        "learn"
                      ],
                      "name": "experiment"
                    }
                  }
                }
              }
            },
            "layout": "IPY_MODEL_2704d6925b44404ba9b4e789995bf0af"
          }
        }
      }
    }
  },
  "cells": [
    {
      "cell_type": "markdown",
      "metadata": {
        "id": "view-in-github",
        "colab_type": "text"
      },
      "source": [
        "<a href=\"https://colab.research.google.com/github/younesabdolmalaky/Pistachio/blob/main/catboost28.ipynb\" target=\"_parent\"><img src=\"https://colab.research.google.com/assets/colab-badge.svg\" alt=\"Open In Colab\"/></a>"
      ]
    },
    {
      "cell_type": "code",
      "execution_count": 2,
      "metadata": {
        "colab": {
          "base_uri": "https://localhost:8080/"
        },
        "id": "t1qNE6fgCNp_",
        "outputId": "c0293cd5-e191-4079-8bc8-51577683ea15"
      },
      "outputs": [
        {
          "output_type": "stream",
          "name": "stdout",
          "text": [
            "Collecting imblearn\n",
            "  Downloading imblearn-0.0-py2.py3-none-any.whl (1.9 kB)\n",
            "Requirement already satisfied: imbalanced-learn in /usr/local/lib/python3.10/dist-packages (from imblearn) (0.10.1)\n",
            "Requirement already satisfied: numpy>=1.17.3 in /usr/local/lib/python3.10/dist-packages (from imbalanced-learn->imblearn) (1.22.4)\n",
            "Requirement already satisfied: scipy>=1.3.2 in /usr/local/lib/python3.10/dist-packages (from imbalanced-learn->imblearn) (1.10.1)\n",
            "Requirement already satisfied: scikit-learn>=1.0.2 in /usr/local/lib/python3.10/dist-packages (from imbalanced-learn->imblearn) (1.2.2)\n",
            "Requirement already satisfied: joblib>=1.1.1 in /usr/local/lib/python3.10/dist-packages (from imbalanced-learn->imblearn) (1.2.0)\n",
            "Requirement already satisfied: threadpoolctl>=2.0.0 in /usr/local/lib/python3.10/dist-packages (from imbalanced-learn->imblearn) (3.1.0)\n",
            "Installing collected packages: imblearn\n",
            "Successfully installed imblearn-0.0\n",
            "Collecting catboost\n",
            "  Downloading catboost-1.2-cp310-cp310-manylinux2014_x86_64.whl (98.6 MB)\n",
            "\u001b[2K     \u001b[90m━━━━━━━━━━━━━━━━━━━━━━━━━━━━━━━━━━━━━━━━\u001b[0m \u001b[32m98.6/98.6 MB\u001b[0m \u001b[31m9.3 MB/s\u001b[0m eta \u001b[36m0:00:00\u001b[0m\n",
            "\u001b[?25hRequirement already satisfied: graphviz in /usr/local/lib/python3.10/dist-packages (from catboost) (0.20.1)\n",
            "Requirement already satisfied: matplotlib in /usr/local/lib/python3.10/dist-packages (from catboost) (3.7.1)\n",
            "Requirement already satisfied: numpy>=1.16.0 in /usr/local/lib/python3.10/dist-packages (from catboost) (1.22.4)\n",
            "Requirement already satisfied: pandas>=0.24 in /usr/local/lib/python3.10/dist-packages (from catboost) (1.5.3)\n",
            "Requirement already satisfied: scipy in /usr/local/lib/python3.10/dist-packages (from catboost) (1.10.1)\n",
            "Requirement already satisfied: plotly in /usr/local/lib/python3.10/dist-packages (from catboost) (5.13.1)\n",
            "Requirement already satisfied: six in /usr/local/lib/python3.10/dist-packages (from catboost) (1.16.0)\n",
            "Requirement already satisfied: python-dateutil>=2.8.1 in /usr/local/lib/python3.10/dist-packages (from pandas>=0.24->catboost) (2.8.2)\n",
            "Requirement already satisfied: pytz>=2020.1 in /usr/local/lib/python3.10/dist-packages (from pandas>=0.24->catboost) (2022.7.1)\n",
            "Requirement already satisfied: contourpy>=1.0.1 in /usr/local/lib/python3.10/dist-packages (from matplotlib->catboost) (1.1.0)\n",
            "Requirement already satisfied: cycler>=0.10 in /usr/local/lib/python3.10/dist-packages (from matplotlib->catboost) (0.11.0)\n",
            "Requirement already satisfied: fonttools>=4.22.0 in /usr/local/lib/python3.10/dist-packages (from matplotlib->catboost) (4.40.0)\n",
            "Requirement already satisfied: kiwisolver>=1.0.1 in /usr/local/lib/python3.10/dist-packages (from matplotlib->catboost) (1.4.4)\n",
            "Requirement already satisfied: packaging>=20.0 in /usr/local/lib/python3.10/dist-packages (from matplotlib->catboost) (23.1)\n",
            "Requirement already satisfied: pillow>=6.2.0 in /usr/local/lib/python3.10/dist-packages (from matplotlib->catboost) (8.4.0)\n",
            "Requirement already satisfied: pyparsing>=2.3.1 in /usr/local/lib/python3.10/dist-packages (from matplotlib->catboost) (3.1.0)\n",
            "Requirement already satisfied: tenacity>=6.2.0 in /usr/local/lib/python3.10/dist-packages (from plotly->catboost) (8.2.2)\n",
            "Installing collected packages: catboost\n",
            "Successfully installed catboost-1.2\n"
          ]
        }
      ],
      "source": [
        "!pip install imblearn\n",
        "!pip install catboost"
      ]
    },
    {
      "cell_type": "code",
      "source": [
        "import pickle\n",
        "import numpy as np\n",
        "import pandas as pd\n",
        "from sklearn.model_selection import train_test_split\n",
        "from imblearn.over_sampling import SMOTE\n",
        "from catboost import CatBoostClassifier\n",
        "from sklearn.metrics import classification_report"
      ],
      "metadata": {
        "id": "OTmW0cDuCTQ_"
      },
      "execution_count": 3,
      "outputs": []
    },
    {
      "cell_type": "code",
      "source": [
        "with open('/content/drive/MyDrive/Pistachio/vec/train.pickle', 'rb') as f:\n",
        "    train = pickle.load(f)\n",
        "\n",
        "with open('/content/drive/MyDrive/Pistachio/vec/test.pickle', 'rb') as f:\n",
        "    test = pickle.load(f)\n",
        "\n",
        "X_train = train[:, 20:48].astype(np.float32)\n",
        "y_train = train[:, 49].astype(np.float32)\n",
        "\n",
        "X_test = test[:, 20:48].astype(np.float32)\n",
        "y_test = test[:, 49].astype(np.float32)"
      ],
      "metadata": {
        "id": "vy9o0eO9CVVC"
      },
      "execution_count": 4,
      "outputs": []
    },
    {
      "cell_type": "code",
      "source": [
        "smote = SMOTE(random_state=42)\n",
        "X_train_resampled, y_train_resampled = smote.fit_resample(X_train, y_train)"
      ],
      "metadata": {
        "id": "a3h-AqV7CXyg"
      },
      "execution_count": 5,
      "outputs": []
    },
    {
      "cell_type": "code",
      "source": [
        "model = CatBoostClassifier(\n",
        "    iterations=1000,\n",
        "    learning_rate=0.1,\n",
        "    depth=6,\n",
        "    l2_leaf_reg=3,\n",
        "    random_seed=42,\n",
        "    loss_function='Logloss',\n",
        "    eval_metric='F1',\n",
        "    verbose=100\n",
        ")"
      ],
      "metadata": {
        "id": "VOYEBgl8CZDa"
      },
      "execution_count": 14,
      "outputs": []
    },
    {
      "cell_type": "code",
      "source": [
        "model.fit(\n",
        "    X_train_resampled, y_train_resampled,\n",
        "    eval_set=(X_test, y_test),\n",
        "    early_stopping_rounds=50,\n",
        "    plot=True\n",
        ")"
      ],
      "metadata": {
        "colab": {
          "base_uri": "https://localhost:8080/",
          "height": 202,
          "referenced_widgets": [
            "ceea7b78e3744829a3d9c81fce1b3868"
          ]
        },
        "id": "zUPcbXOWCaLi",
        "outputId": "845c703b-1e8e-4fac-937f-4516fac3cd1d"
      },
      "execution_count": 15,
      "outputs": [
        {
          "output_type": "display_data",
          "data": {
            "text/plain": [
              "MetricVisualizer(layout=Layout(align_self='stretch', height='500px'))"
            ],
            "application/vnd.jupyter.widget-view+json": {
              "version_major": 2,
              "version_minor": 0,
              "model_id": "ceea7b78e3744829a3d9c81fce1b3868"
            }
          },
          "metadata": {}
        },
        {
          "output_type": "stream",
          "name": "stdout",
          "text": [
            "0:\tlearn: 0.7065990\ttest: 0.6575342\tbest: 0.6575342 (0)\ttotal: 5.47ms\tremaining: 5.46s\n",
            "100:\tlearn: 0.9979675\ttest: 0.9757412\tbest: 0.9757412 (100)\ttotal: 539ms\tremaining: 4.8s\n",
            "200:\tlearn: 1.0000000\ttest: 0.9890710\tbest: 0.9890710 (159)\ttotal: 1.08s\tremaining: 4.29s\n",
            "Stopped by overfitting detector  (50 iterations wait)\n",
            "\n",
            "bestTest = 0.9917808219\n",
            "bestIteration = 202\n",
            "\n",
            "Shrink model to first 203 iterations.\n"
          ]
        },
        {
          "output_type": "execute_result",
          "data": {
            "text/plain": [
              "<catboost.core.CatBoostClassifier at 0x7feb9bcc4a30>"
            ]
          },
          "metadata": {},
          "execution_count": 15
        }
      ]
    },
    {
      "cell_type": "code",
      "source": [
        "y_pred = model.predict(X_train_resampled)\n",
        "print(classification_report(y_pred, y_train_resampled))"
      ],
      "metadata": {
        "colab": {
          "base_uri": "https://localhost:8080/"
        },
        "id": "ll9oUNCwDmso",
        "outputId": "1b74bc9b-aca8-4943-fbdf-a5999b154546"
      },
      "execution_count": 17,
      "outputs": [
        {
          "output_type": "stream",
          "name": "stdout",
          "text": [
            "              precision    recall  f1-score   support\n",
            "\n",
            "         0.0       1.00      1.00      1.00       985\n",
            "         1.0       1.00      1.00      1.00       985\n",
            "\n",
            "    accuracy                           1.00      1970\n",
            "   macro avg       1.00      1.00      1.00      1970\n",
            "weighted avg       1.00      1.00      1.00      1970\n",
            "\n"
          ]
        }
      ]
    },
    {
      "cell_type": "code",
      "source": [
        "y_pred = model.predict(X_test)\n",
        "print(classification_report(y_pred, y_test))"
      ],
      "metadata": {
        "colab": {
          "base_uri": "https://localhost:8080/"
        },
        "id": "3ztKH2tGCbwW",
        "outputId": "018492dd-64eb-4589-a964-f5376fc5b6d5"
      },
      "execution_count": 16,
      "outputs": [
        {
          "output_type": "stream",
          "name": "stdout",
          "text": [
            "              precision    recall  f1-score   support\n",
            "\n",
            "         0.0       1.00      0.99      0.99       250\n",
            "         1.0       0.98      1.00      0.99       181\n",
            "\n",
            "    accuracy                           0.99       431\n",
            "   macro avg       0.99      0.99      0.99       431\n",
            "weighted avg       0.99      0.99      0.99       431\n",
            "\n"
          ]
        }
      ]
    },
    {
      "cell_type": "code",
      "source": [],
      "metadata": {
        "id": "7oLnlVFiDVGH"
      },
      "execution_count": null,
      "outputs": []
    }
  ]
}