{
  "nbformat": 4,
  "nbformat_minor": 0,
  "metadata": {
    "colab": {
      "provenance": [],
      "gpuType": "T4",
      "mount_file_id": "1ggxNgkbcDDmHDtl5AcOOYW4oTj6nlIwQ",
      "authorship_tag": "ABX9TyOC+fKKyMWsG0x0i3/Xscsk",
      "include_colab_link": true
    },
    "kernelspec": {
      "name": "python3",
      "display_name": "Python 3"
    },
    "language_info": {
      "name": "python"
    },
    "accelerator": "GPU"
  },
  "cells": [
    {
      "cell_type": "markdown",
      "metadata": {
        "id": "view-in-github",
        "colab_type": "text"
      },
      "source": [
        "<a href=\"https://colab.research.google.com/github/younesabdolmalaky/Pistachio/blob/main/VGG16.ipynb\" target=\"_parent\"><img src=\"https://colab.research.google.com/assets/colab-badge.svg\" alt=\"Open In Colab\"/></a>"
      ]
    },
    {
      "cell_type": "code",
      "source": [
        "from tensorflow.keras.applications.vgg16 import VGG16\n",
        "import os\n",
        "from tensorflow.keras import models, layers, optimizers\n",
        "from tensorflow.keras.preprocessing.image import ImageDataGenerator\n",
        "from sklearn.metrics import classification_report\n",
        "import numpy as np\n",
        "from keras import metrics\n",
        "import tensorflow as tf\n",
        "import matplotlib.pyplot as plt\n",
        "import matplotlib.image as mpimg\n",
        "import pathlib\n",
        "import random\n",
        "from tensorflow.keras.preprocessing import image_dataset_from_directory\n",
        "from tensorflow.keras.layers.experimental import preprocessing\n",
        "from tensorflow.keras.optimizers import SGD, RMSprop, Adam, Adagrad, Adadelta\n",
        "from keras.layers import Dense, Dropout, Activation, Flatten, BatchNormalization, Conv2D, MaxPool2D, MaxPooling2D\n",
        "from tensorflow.keras.callbacks import ReduceLROnPlateau, ModelCheckpoint, EarlyStopping\n",
        "from tensorflow.keras import Model\n",
        "from tensorflow.keras.layers import Dense, GlobalAveragePooling2D\n",
        "from keras import optimizers, losses, activations, models\n",
        "\n",
        "os.path.expanduser('~/.keras/models')"
      ],
      "metadata": {
        "colab": {
          "base_uri": "https://localhost:8080/",
          "height": 36
        },
        "id": "XFRqMjbHd3pv",
        "outputId": "122a525f-05e1-41c5-a36b-a3c4741fbea9"
      },
      "execution_count": null,
      "outputs": [
        {
          "output_type": "execute_result",
          "data": {
            "text/plain": [
              "'/root/.keras/models'"
            ],
            "application/vnd.google.colaboratory.intrinsic+json": {
              "type": "string"
            }
          },
          "metadata": {},
          "execution_count": 1
        }
      ]
    },
    {
      "cell_type": "code",
      "source": [
        "img_size = 512"
      ],
      "metadata": {
        "id": "ZFbXaaqpltfX"
      },
      "execution_count": null,
      "outputs": []
    },
    {
      "cell_type": "code",
      "source": [
        "base_model = VGG16(weights='imagenet', include_top=False,\n",
        "                            input_shape=(600,600,3))\n",
        "\n",
        "# freeze extraction layers\n",
        "base_model.trainable = False\n",
        "\n",
        "# add custom top layers\n",
        "x = base_model.output\n",
        "x = GlobalAveragePooling2D()(x)\n",
        "x = Dropout(0.2)(x)\n",
        "x = Dense(4096,activation=\"relu\")(x)\n",
        "x = Dense(4096,activation=\"relu\")(x)\n",
        "x = Dropout(0.2)(x)\n",
        "x = Dense(2096,activation=\"relu\")(x)\n",
        "predictions = Dense(2, activation='sigmoid')(x)\n",
        "model = Model(inputs=base_model.input, outputs=predictions)\n",
        "\n",
        "# confirm unfrozen layers\n",
        "for layer in model.layers:\n",
        "    if layer.trainable==True:\n",
        "        print(layer)"
      ],
      "metadata": {
        "colab": {
          "base_uri": "https://localhost:8080/"
        },
        "id": "YDnaFohud5Ka",
        "outputId": "8e156c23-615a-4e83-e8bc-c7f665a8d665"
      },
      "execution_count": null,
      "outputs": [
        {
          "output_type": "stream",
          "name": "stdout",
          "text": [
            "Downloading data from https://storage.googleapis.com/tensorflow/keras-applications/vgg16/vgg16_weights_tf_dim_ordering_tf_kernels_notop.h5\n",
            "58889256/58889256 [==============================] - 0s 0us/step\n",
            "<keras.layers.pooling.global_average_pooling2d.GlobalAveragePooling2D object at 0x7f3e87c7ddb0>\n",
            "<keras.layers.regularization.dropout.Dropout object at 0x7f3eef4ac460>\n",
            "<keras.layers.core.dense.Dense object at 0x7f3e61ec0460>\n",
            "<keras.layers.core.dense.Dense object at 0x7f3e61f03640>\n",
            "<keras.layers.regularization.dropout.Dropout object at 0x7f3eee807850>\n",
            "<keras.layers.core.dense.Dense object at 0x7f3e61f00e20>\n",
            "<keras.layers.core.dense.Dense object at 0x7f3e61f02c50>\n"
          ]
        }
      ]
    },
    {
      "cell_type": "code",
      "source": [
        "model.summary()"
      ],
      "metadata": {
        "colab": {
          "base_uri": "https://localhost:8080/"
        },
        "id": "zWTDu8Lnsq2P",
        "outputId": "c351fd0a-5f83-4ef7-de42-fc01cb72895e"
      },
      "execution_count": null,
      "outputs": [
        {
          "output_type": "stream",
          "name": "stdout",
          "text": [
            "Model: \"model\"\n",
            "_________________________________________________________________\n",
            " Layer (type)                Output Shape              Param #   \n",
            "=================================================================\n",
            " input_1 (InputLayer)        [(None, 600, 600, 3)]     0         \n",
            "                                                                 \n",
            " block1_conv1 (Conv2D)       (None, 600, 600, 64)      1792      \n",
            "                                                                 \n",
            " block1_conv2 (Conv2D)       (None, 600, 600, 64)      36928     \n",
            "                                                                 \n",
            " block1_pool (MaxPooling2D)  (None, 300, 300, 64)      0         \n",
            "                                                                 \n",
            " block2_conv1 (Conv2D)       (None, 300, 300, 128)     73856     \n",
            "                                                                 \n",
            " block2_conv2 (Conv2D)       (None, 300, 300, 128)     147584    \n",
            "                                                                 \n",
            " block2_pool (MaxPooling2D)  (None, 150, 150, 128)     0         \n",
            "                                                                 \n",
            " block3_conv1 (Conv2D)       (None, 150, 150, 256)     295168    \n",
            "                                                                 \n",
            " block3_conv2 (Conv2D)       (None, 150, 150, 256)     590080    \n",
            "                                                                 \n",
            " block3_conv3 (Conv2D)       (None, 150, 150, 256)     590080    \n",
            "                                                                 \n",
            " block3_pool (MaxPooling2D)  (None, 75, 75, 256)       0         \n",
            "                                                                 \n",
            " block4_conv1 (Conv2D)       (None, 75, 75, 512)       1180160   \n",
            "                                                                 \n",
            " block4_conv2 (Conv2D)       (None, 75, 75, 512)       2359808   \n",
            "                                                                 \n",
            " block4_conv3 (Conv2D)       (None, 75, 75, 512)       2359808   \n",
            "                                                                 \n",
            " block4_pool (MaxPooling2D)  (None, 37, 37, 512)       0         \n",
            "                                                                 \n",
            " block5_conv1 (Conv2D)       (None, 37, 37, 512)       2359808   \n",
            "                                                                 \n",
            " block5_conv2 (Conv2D)       (None, 37, 37, 512)       2359808   \n",
            "                                                                 \n",
            " block5_conv3 (Conv2D)       (None, 37, 37, 512)       2359808   \n",
            "                                                                 \n",
            " block5_pool (MaxPooling2D)  (None, 18, 18, 512)       0         \n",
            "                                                                 \n",
            " global_average_pooling2d (G  (None, 512)              0         \n",
            " lobalAveragePooling2D)                                          \n",
            "                                                                 \n",
            " dropout (Dropout)           (None, 512)               0         \n",
            "                                                                 \n",
            " dense (Dense)               (None, 4096)              2101248   \n",
            "                                                                 \n",
            " dense_1 (Dense)             (None, 4096)              16781312  \n",
            "                                                                 \n",
            " dropout_1 (Dropout)         (None, 4096)              0         \n",
            "                                                                 \n",
            " dense_2 (Dense)             (None, 2096)              8587312   \n",
            "                                                                 \n",
            " dense_3 (Dense)             (None, 2)                 4194      \n",
            "                                                                 \n",
            "=================================================================\n",
            "Total params: 42,188,754\n",
            "Trainable params: 27,474,066\n",
            "Non-trainable params: 14,714,688\n",
            "_________________________________________________________________\n"
          ]
        }
      ]
    },
    {
      "cell_type": "code",
      "source": [
        "callbacks = [EarlyStopping(monitor='val_loss', patience=5, verbose=1),\n",
        "                ModelCheckpoint('model.hdf5',\n",
        "                                 save_best_only=True)]"
      ],
      "metadata": {
        "id": "NPTSc1mziVB7"
      },
      "execution_count": null,
      "outputs": []
    },
    {
      "cell_type": "code",
      "source": [
        "opt = Adam(learning_rate=0.005)\n",
        "model.compile(\n",
        "  loss='categorical_crossentropy',\n",
        "  optimizer=opt,\n",
        "  metrics=['accuracy', metrics.Precision(), metrics.Recall()]\n",
        ")"
      ],
      "metadata": {
        "id": "p0Leh3_LmVGX"
      },
      "execution_count": null,
      "outputs": []
    },
    {
      "cell_type": "code",
      "source": [
        "image_generator = ImageDataGenerator(rescale = 1.0/255.0,\n",
        "                                   rotation_range = 0.5,\n",
        "                                   width_shift_range = 0.2,\n",
        "                                   height_shift_range = 0.2,\n",
        "                                   shear_range = 0.2,\n",
        "                                   zoom_range = 0.1,\n",
        "                                   horizontal_flip = True,\n",
        "                                   fill_mode = 'nearest'\n",
        "                                  )\n",
        "\n",
        "image_generator_test = ImageDataGenerator(rescale = 1.0/255.0)\n"
      ],
      "metadata": {
        "id": "2XCn2T71iXbt"
      },
      "execution_count": null,
      "outputs": []
    },
    {
      "cell_type": "code",
      "source": [
        "train_data = image_generator.flow_from_directory(\n",
        "    '/content/drive/MyDrive/Pistachio/train',\n",
        "    target_size=(512, 512),\n",
        "    color_mode=\"rgb\",\n",
        "    class_mode='categorical',\n",
        "    batch_size=32\n",
        ")"
      ],
      "metadata": {
        "colab": {
          "base_uri": "https://localhost:8080/"
        },
        "id": "dyRRhgwbiXgi",
        "outputId": "16a2543c-725f-46b5-a68a-98f10d0021cb"
      },
      "execution_count": null,
      "outputs": [
        {
          "output_type": "stream",
          "name": "stdout",
          "text": [
            "Found 1717 images belonging to 2 classes.\n"
          ]
        }
      ]
    },
    {
      "cell_type": "code",
      "source": [
        "test_data = image_generator_test.flow_from_directory(\n",
        "    '/content/drive/MyDrive/Pistachio/test',\n",
        "    target_size=(512, 512),\n",
        "    color_mode=\"rgb\",\n",
        "    class_mode='categorical',\n",
        "    batch_size=32\n",
        ")"
      ],
      "metadata": {
        "colab": {
          "base_uri": "https://localhost:8080/"
        },
        "id": "L6DCAc3hidbx",
        "outputId": "5287b56f-29b0-46da-d5a2-dbaf7552dd41"
      },
      "execution_count": null,
      "outputs": [
        {
          "output_type": "stream",
          "name": "stdout",
          "text": [
            "Found 431 images belonging to 2 classes.\n"
          ]
        }
      ]
    },
    {
      "cell_type": "code",
      "source": [
        "history=model.fit(train_data,\n",
        "                  epochs=50,\n",
        "                  validation_data=test_data,\n",
        "                  validation_steps=len(test_data),\n",
        "                  verbose=1,\n",
        "                  callbacks=callbacks)"
      ],
      "metadata": {
        "colab": {
          "base_uri": "https://localhost:8080/"
        },
        "id": "a8DOe021mhpJ",
        "outputId": "9567f03f-7189-45b4-c536-ace353fb92de"
      },
      "execution_count": null,
      "outputs": [
        {
          "output_type": "stream",
          "name": "stdout",
          "text": [
            "Epoch 1/50\n",
            "54/54 [==============================] - 343s 6s/step - loss: 4.4328 - accuracy: 0.5603 - precision: 0.5579 - recall: 0.5556 - val_loss: 0.6879 - val_accuracy: 0.5731 - val_precision: 0.5731 - val_recall: 0.5731\n",
            "Epoch 2/50\n",
            "54/54 [==============================] - 132s 2s/step - loss: 0.6833 - accuracy: 0.5772 - precision: 0.5741 - recall: 0.5999 - val_loss: 0.6590 - val_accuracy: 0.5800 - val_precision: 0.5810 - val_recall: 0.5824\n",
            "Epoch 3/50\n",
            "54/54 [==============================] - 132s 2s/step - loss: 0.5911 - accuracy: 0.6814 - precision: 0.6882 - recall: 0.6686 - val_loss: 0.4782 - val_accuracy: 0.7726 - val_precision: 0.7883 - val_recall: 0.7517\n",
            "Epoch 4/50\n",
            "54/54 [==============================] - 132s 2s/step - loss: 0.5296 - accuracy: 0.7472 - precision: 0.7554 - recall: 0.7373 - val_loss: 0.4615 - val_accuracy: 0.8561 - val_precision: 0.8582 - val_recall: 0.8422\n",
            "Epoch 5/50\n",
            "54/54 [==============================] - 131s 2s/step - loss: 0.5149 - accuracy: 0.7531 - precision: 0.7544 - recall: 0.7443 - val_loss: 0.5452 - val_accuracy: 0.7587 - val_precision: 0.7611 - val_recall: 0.7541\n",
            "Epoch 6/50\n",
            "54/54 [==============================] - 131s 2s/step - loss: 0.5167 - accuracy: 0.7484 - precision: 0.7551 - recall: 0.7379 - val_loss: 0.5313 - val_accuracy: 0.7703 - val_precision: 0.7748 - val_recall: 0.7425\n",
            "Epoch 7/50\n",
            "54/54 [==============================] - 130s 2s/step - loss: 0.4402 - accuracy: 0.7921 - precision: 0.7982 - recall: 0.7857 - val_loss: 0.3562 - val_accuracy: 0.8677 - val_precision: 0.8732 - val_recall: 0.8631\n",
            "Epoch 8/50\n",
            "54/54 [==============================] - 130s 2s/step - loss: 0.4351 - accuracy: 0.7997 - precision: 0.8028 - recall: 0.7967 - val_loss: 0.5486 - val_accuracy: 0.6961 - val_precision: 0.7002 - val_recall: 0.6937\n",
            "Epoch 9/50\n",
            "54/54 [==============================] - 131s 2s/step - loss: 0.4606 - accuracy: 0.7892 - precision: 0.7940 - recall: 0.7833 - val_loss: 0.3714 - val_accuracy: 0.8538 - val_precision: 0.8585 - val_recall: 0.8445\n",
            "Epoch 10/50\n",
            "54/54 [==============================] - 130s 2s/step - loss: 0.4801 - accuracy: 0.7752 - precision: 0.7795 - recall: 0.7659 - val_loss: 0.3354 - val_accuracy: 0.8608 - val_precision: 0.8642 - val_recall: 0.8561\n",
            "Epoch 11/50\n",
            "54/54 [==============================] - 133s 2s/step - loss: 0.3916 - accuracy: 0.8270 - precision: 0.8298 - recall: 0.8206 - val_loss: 0.2982 - val_accuracy: 0.8979 - val_precision: 0.8977 - val_recall: 0.8956\n",
            "Epoch 12/50\n",
            "54/54 [==============================] - 130s 2s/step - loss: 0.3833 - accuracy: 0.8247 - precision: 0.8227 - recall: 0.8270 - val_loss: 0.3257 - val_accuracy: 0.8979 - val_precision: 0.8977 - val_recall: 0.8956\n",
            "Epoch 13/50\n",
            "54/54 [==============================] - 130s 2s/step - loss: 0.3835 - accuracy: 0.8160 - precision: 0.8167 - recall: 0.8200 - val_loss: 0.2806 - val_accuracy: 0.8979 - val_precision: 0.8963 - val_recall: 0.9026\n",
            "Epoch 14/50\n",
            "54/54 [==============================] - 129s 2s/step - loss: 0.3935 - accuracy: 0.8259 - precision: 0.8237 - recall: 0.8299 - val_loss: 0.2972 - val_accuracy: 0.8863 - val_precision: 0.8848 - val_recall: 0.8910\n",
            "Epoch 15/50\n",
            "54/54 [==============================] - 127s 2s/step - loss: 0.4281 - accuracy: 0.7991 - precision: 0.7947 - recall: 0.8049 - val_loss: 0.3735 - val_accuracy: 0.8979 - val_precision: 0.8938 - val_recall: 0.8979\n",
            "Epoch 16/50\n",
            "54/54 [==============================] - 129s 2s/step - loss: 0.3523 - accuracy: 0.8387 - precision: 0.8332 - recall: 0.8468 - val_loss: 0.3040 - val_accuracy: 0.9002 - val_precision: 0.8963 - val_recall: 0.9026\n",
            "Epoch 17/50\n",
            "54/54 [==============================] - 128s 2s/step - loss: 0.3544 - accuracy: 0.8567 - precision: 0.8555 - recall: 0.8585 - val_loss: 0.3325 - val_accuracy: 0.8840 - val_precision: 0.8840 - val_recall: 0.8840\n",
            "Epoch 18/50\n",
            "54/54 [==============================] - 129s 2s/step - loss: 0.3730 - accuracy: 0.8328 - precision: 0.8328 - recall: 0.8358 - val_loss: 0.2523 - val_accuracy: 0.9002 - val_precision: 0.9002 - val_recall: 0.9002\n",
            "Epoch 19/50\n",
            "54/54 [==============================] - 129s 2s/step - loss: 0.3823 - accuracy: 0.8323 - precision: 0.8289 - recall: 0.8381 - val_loss: 0.3313 - val_accuracy: 0.8910 - val_precision: 0.8864 - val_recall: 0.9049\n",
            "Epoch 20/50\n",
            "54/54 [==============================] - 132s 2s/step - loss: 0.4009 - accuracy: 0.8229 - precision: 0.8239 - recall: 0.8282 - val_loss: 0.2836 - val_accuracy: 0.8817 - val_precision: 0.8796 - val_recall: 0.8817\n",
            "Epoch 21/50\n",
            "54/54 [==============================] - 128s 2s/step - loss: 0.3708 - accuracy: 0.8346 - precision: 0.8305 - recall: 0.8363 - val_loss: 0.3426 - val_accuracy: 0.8747 - val_precision: 0.8690 - val_recall: 0.8770\n",
            "Epoch 22/50\n",
            "54/54 [==============================] - 130s 2s/step - loss: 0.3940 - accuracy: 0.8212 - precision: 0.8174 - recall: 0.8241 - val_loss: 0.3666 - val_accuracy: 0.8213 - val_precision: 0.8199 - val_recall: 0.8237\n",
            "Epoch 23/50\n",
            "54/54 [==============================] - 130s 2s/step - loss: 0.3814 - accuracy: 0.8270 - precision: 0.8239 - recall: 0.8311 - val_loss: 0.3196 - val_accuracy: 0.9026 - val_precision: 0.8943 - val_recall: 0.9026\n",
            "Epoch 23: early stopping\n"
          ]
        }
      ]
    },
    {
      "cell_type": "code",
      "source": [],
      "metadata": {
        "id": "NC7JaeTMiyfp"
      },
      "execution_count": null,
      "outputs": []
    }
  ]
}