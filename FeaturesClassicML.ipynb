{
  "nbformat": 4,
  "nbformat_minor": 0,
  "metadata": {
    "colab": {
      "provenance": [],
      "authorship_tag": "ABX9TyMfjjWMtQCW1s7lT4OC22FP",
      "include_colab_link": true
    },
    "kernelspec": {
      "name": "python3",
      "display_name": "Python 3"
    },
    "language_info": {
      "name": "python"
    }
  },
  "cells": [
    {
      "cell_type": "markdown",
      "metadata": {
        "id": "view-in-github",
        "colab_type": "text"
      },
      "source": [
        "<a href=\"https://colab.research.google.com/github/younesabdolmalaky/Pistachio/blob/main/FeaturesClassicML.ipynb\" target=\"_parent\"><img src=\"https://colab.research.google.com/assets/colab-badge.svg\" alt=\"Open In Colab\"/></a>"
      ]
    },
    {
      "cell_type": "code",
      "source": [
        "!pip install imblearn"
      ],
      "metadata": {
        "colab": {
          "base_uri": "https://localhost:8080/"
        },
        "id": "rVMjiC5M-USJ",
        "outputId": "ead098d6-a21f-4dba-c57c-48580f102931"
      },
      "execution_count": 2,
      "outputs": [
        {
          "output_type": "stream",
          "name": "stdout",
          "text": [
            "Collecting imblearn\n",
            "  Downloading imblearn-0.0-py2.py3-none-any.whl (1.9 kB)\n",
            "Requirement already satisfied: imbalanced-learn in /usr/local/lib/python3.10/dist-packages (from imblearn) (0.10.1)\n",
            "Requirement already satisfied: numpy>=1.17.3 in /usr/local/lib/python3.10/dist-packages (from imbalanced-learn->imblearn) (1.22.4)\n",
            "Requirement already satisfied: scipy>=1.3.2 in /usr/local/lib/python3.10/dist-packages (from imbalanced-learn->imblearn) (1.10.1)\n",
            "Requirement already satisfied: scikit-learn>=1.0.2 in /usr/local/lib/python3.10/dist-packages (from imbalanced-learn->imblearn) (1.2.2)\n",
            "Requirement already satisfied: joblib>=1.1.1 in /usr/local/lib/python3.10/dist-packages (from imbalanced-learn->imblearn) (1.2.0)\n",
            "Requirement already satisfied: threadpoolctl>=2.0.0 in /usr/local/lib/python3.10/dist-packages (from imbalanced-learn->imblearn) (3.1.0)\n",
            "Installing collected packages: imblearn\n",
            "Successfully installed imblearn-0.0\n"
          ]
        }
      ]
    },
    {
      "cell_type": "code",
      "source": [
        "!pip install catboost"
      ],
      "metadata": {
        "id": "0NiyFKQ7akTo"
      },
      "execution_count": null,
      "outputs": []
    },
    {
      "cell_type": "code",
      "source": [
        "from google.colab import drive\n",
        "drive.mount('/content/drive')"
      ],
      "metadata": {
        "id": "S5Fn6RTZVTsO"
      },
      "execution_count": null,
      "outputs": []
    },
    {
      "cell_type": "code",
      "source": [
        "import pickle\n",
        "import catboost as cb\n",
        "from sklearn.ensemble import RandomForestClassifier\n",
        "import pandas as pd\n",
        "import numpy as np\n",
        "from sklearn.metrics import classification_report\n",
        "from sklearn.model_selection import train_test_split\n",
        "from imblearn.over_sampling import SMOTE\n",
        "import matplotlib.pyplot as plt"
      ],
      "metadata": {
        "id": "AC_2NHKZ9kdr"
      },
      "execution_count": 85,
      "outputs": []
    },
    {
      "cell_type": "code",
      "execution_count": 4,
      "metadata": {
        "id": "c_jErUPJ84sP"
      },
      "outputs": [],
      "source": [
        "with open('/content/drive/MyDrive/Pistachio/Kirmizi_Pistachio_train1.pickle', 'rb') as f:\n",
        "    Kirmizi_Pistachio_train = pickle.load(f)\n",
        "\n",
        "with open('/content/drive/MyDrive/Pistachio/Siirt_Pistachio_train1.pickle', 'rb') as f:\n",
        "    Siirt_Pistachio_train = pickle.load(f)\n",
        "\n",
        "with open('/content/drive/MyDrive/Pistachio/Kirmizi_Pistachio_test1.pickle', 'rb') as f:\n",
        "    Kirmizi_Pistachio_test = pickle.load(f)\n",
        "\n",
        "with open('/content/drive/MyDrive/Pistachio/Siirt_Pistachio_test1.pickle', 'rb') as f:\n",
        "    Siirt_Pistachio_test = pickle.load(f)"
      ]
    },
    {
      "cell_type": "code",
      "source": [
        "PixelFeaturesSiirttrain1 = pd.DataFrame(Kirmizi_Pistachio_train)\n",
        "PixelFeaturesSiirttrain2 = pd.DataFrame(Siirt_Pistachio_train)\n",
        "PixelFeaturesSiirttest1 = pd.DataFrame(Kirmizi_Pistachio_test)\n",
        "PixelFeaturesSiirttest2 = pd.DataFrame(Siirt_Pistachio_test)"
      ],
      "metadata": {
        "id": "MZOHI1DDVlHb"
      },
      "execution_count": 8,
      "outputs": []
    },
    {
      "cell_type": "code",
      "source": [
        "PixelFeaturesSiirttrain1['class'] = 0\n",
        "PixelFeaturesSiirttrain2['class'] = 1\n",
        "PixelFeaturesSiirttest1['class'] = 0\n",
        "PixelFeaturesSiirttest2['class'] = 1"
      ],
      "metadata": {
        "id": "_Gns7Sri-kVJ"
      },
      "execution_count": 40,
      "outputs": []
    },
    {
      "cell_type": "code",
      "source": [
        "PixelFeaturesSiirttrain = pd.concat([PixelFeaturesSiirttrain1, PixelFeaturesSiirttrain2])\n",
        "PixelFeaturesSiirttest = pd.concat([PixelFeaturesSiirttest1, PixelFeaturesSiirttest2])"
      ],
      "metadata": {
        "id": "EWetJ28nATZV"
      },
      "execution_count": 41,
      "outputs": []
    },
    {
      "cell_type": "code",
      "source": [
        "PixelFeaturesSiirttrain = PixelFeaturesSiirttrain.drop('names' , axis = 1)\n",
        "PixelFeaturesSiirttest = PixelFeaturesSiirttest.drop('names' , axis = 1)"
      ],
      "metadata": {
        "id": "Ule2qLYkWbsS"
      },
      "execution_count": 42,
      "outputs": []
    },
    {
      "cell_type": "code",
      "source": [
        "y_train = PixelFeaturesSiirttrain['class']\n",
        "X_train = PixelFeaturesSiirttrain.drop('class' , axis = 1).iloc[:, 20:48]\n",
        "y_test = PixelFeaturesSiirttest['class']\n",
        "X_test = PixelFeaturesSiirttest.drop('class' , axis = 1).iloc[:, 20:48]"
      ],
      "metadata": {
        "id": "mOss95YNAoHG"
      },
      "execution_count": 74,
      "outputs": []
    },
    {
      "cell_type": "code",
      "source": [
        "PixelFeaturesSiirttrain['class'].hist()"
      ],
      "metadata": {
        "colab": {
          "base_uri": "https://localhost:8080/",
          "height": 448
        },
        "id": "naWKesMmA5uP",
        "outputId": "f1856983-ae11-4508-cae8-63999b0b8312"
      },
      "execution_count": 76,
      "outputs": [
        {
          "output_type": "execute_result",
          "data": {
            "text/plain": [
              "<Axes: >"
            ]
          },
          "metadata": {},
          "execution_count": 76
        },
        {
          "output_type": "display_data",
          "data": {
            "text/plain": [
              "<Figure size 640x480 with 1 Axes>"
            ],
            "image/png": "[encoded data removed]"
          },
          "metadata": {}
        }
      ]
    },
    {
      "cell_type": "code",
      "source": [
        "X_train"
      ],
      "metadata": {
        "colab": {
          "base_uri": "https://localhost:8080/",
          "height": 487
        },
        "id": "0-zdKBoCWUJD",
        "outputId": "d07676a0-5ec7-4b29-ec72-75dbb49fd4b4"
      },
      "execution_count": 77,
      "outputs": [
        {
          "output_type": "execute_result",
          "data": {
            "text/plain": [
              "          20         21        22        23      24        25      26  \\\n",
              "0    76945.0  1193.3210  469.8468  214.3867  0.8898  313.0007  0.9524   \n",
              "1    67867.0  1821.1560  425.1305  220.2232  0.8554  293.9574  0.9025   \n",
              "2    76715.0  1163.7260  439.6134  226.2123  0.8574  312.5325  0.9817   \n",
              "3    79642.0  1144.6030  463.9503  221.3451  0.8789  318.4389  0.9902   \n",
              "4    65874.0  1700.9301  442.3879  210.5656  0.8795  289.6090  0.8907   \n",
              "..       ...        ...       ...       ...     ...       ...     ...   \n",
              "727  89084.0  2043.2350  424.6149  284.7247  0.7419  336.7867  0.9113   \n",
              "728  77562.0  2216.4470  464.2564  227.8966  0.8712  314.2531  0.9085   \n",
              "729  98748.0  1202.0850  443.2601  284.5458  0.7668  354.5841  0.9880   \n",
              "730  59867.0  1999.6479  418.0183  236.0217  0.8254  276.0888  0.8029   \n",
              "731  78161.0  2427.2271  433.2900  273.8688  0.7749  315.4642  0.8389   \n",
              "\n",
              "          27      28      29  ...        38       39       40       41  \\\n",
              "0    80789.0  0.7245  2.1916  ...  196.6991  26.2396  26.5541  23.7049   \n",
              "1    75195.0  0.7140  1.9305  ...  194.1964  17.7874  17.4780  16.7636   \n",
              "2    78143.0  0.7481  1.9434  ...  184.7175  21.1586  21.0102  21.6313   \n",
              "3    80431.0  0.7782  2.0960  ...  189.4863  23.4901  25.6410  26.6423   \n",
              "4    73961.0  0.7165  2.1010  ...  196.4848  25.2135  26.7851  26.8374   \n",
              "..       ...     ...     ...  ...       ...      ...      ...      ...   \n",
              "727  97758.0  0.7534  1.4913  ...  197.1373  21.2523  22.6418  19.7280   \n",
              "728  85375.0  0.6094  2.0371  ...  195.2540  22.4017  24.6530  23.0531   \n",
              "729  99952.0  0.7643  1.5578  ...  182.9577  19.9447  19.7135  19.9747   \n",
              "730  74562.0  0.5567  1.7711  ...  182.3957  18.3680  18.3367  15.8968   \n",
              "731  93175.0  0.6549  1.5821  ...  172.7420  24.3185  25.4460  24.7351   \n",
              "\n",
              "         42      43      44      45      46      47  \n",
              "0   -0.7495 -0.8172 -0.5748  2.6191  2.6852  2.3521  \n",
              "1   -0.4223 -0.2720 -0.2523  3.1070  3.2185  3.9871  \n",
              "2   -0.6941 -0.4818 -0.3975  3.4168  3.2742  3.2425  \n",
              "3   -0.7871 -0.5287 -0.3032  2.6744  2.2202  1.9222  \n",
              "4   -0.8116 -0.7447 -0.5696  2.7527  2.6221  2.3447  \n",
              "..      ...     ...     ...     ...     ...     ...  \n",
              "727 -0.7327 -0.7323 -0.9617  2.9888  2.7660  3.7567  \n",
              "728 -1.1141 -0.9940 -0.8077  3.3086  3.0744  3.0565  \n",
              "729 -0.8751 -0.8048 -0.5749  2.9762  2.8648  3.7368  \n",
              "730 -0.7564 -0.7940 -0.6092  2.7778  2.8861  2.5526  \n",
              "731 -0.3528 -0.2963 -0.1734  2.1855  2.2116  2.1350  \n",
              "\n",
              "[1717 rows x 28 columns]"
            ],
            "text/html": [
              "\n",
              "  <div id=\"df-1c5194b2-397b-4ed1-9ca0-8a2e98b11be6\">\n",
              "    <div class=\"colab-df-container\">\n",
              "      <div>\n",
              "<style scoped>\n",
              "    .dataframe tbody tr th:only-of-type {\n",
              "        vertical-align: middle;\n",
              "    }\n",
              "\n",
              "    .dataframe tbody tr th {\n",
              "        vertical-align: top;\n",
              "    }\n",
              "\n",
              "    .dataframe thead th {\n",
              "        text-align: right;\n",
              "    }\n",
              "</style>\n",
              "<table border=\"1\" class=\"dataframe\">\n",
              "  <thead>\n",
              "    <tr style=\"text-align: right;\">\n",
              "      <th></th>\n",
              "      <th>20</th>\n",
              "      <th>21</th>\n",
              "      <th>22</th>\n",
              "      <th>23</th>\n",
              "      <th>24</th>\n",
              "      <th>25</th>\n",
              "      <th>26</th>\n",
              "      <th>27</th>\n",
              "      <th>28</th>\n",
              "      <th>29</th>\n",
              "      <th>...</th>\n",
              "      <th>38</th>\n",
              "      <th>39</th>\n",
              "      <th>40</th>\n",
              "      <th>41</th>\n",
              "      <th>42</th>\n",
              "      <th>43</th>\n",
              "      <th>44</th>\n",
              "      <th>45</th>\n",
              "      <th>46</th>\n",
              "      <th>47</th>\n",
              "    </tr>\n",
              "  </thead>\n",
              "  <tbody>\n",
              "    <tr>\n",
              "      <th>0</th>\n",
              "      <td>76945.0</td>\n",
              "      <td>1193.3210</td>\n",
              "      <td>469.8468</td>\n",
              "      <td>214.3867</td>\n",
              "      <td>0.8898</td>\n",
              "      <td>313.0007</td>\n",
              "      <td>0.9524</td>\n",
              "      <td>80789.0</td>\n",
              "      <td>0.7245</td>\n",
              "      <td>2.1916</td>\n",
              "      <td>...</td>\n",
              "      <td>196.6991</td>\n",
              "      <td>26.2396</td>\n",
              "      <td>26.5541</td>\n",
              "      <td>23.7049</td>\n",
              "      <td>-0.7495</td>\n",
              "      <td>-0.8172</td>\n",
              "      <td>-0.5748</td>\n",
              "      <td>2.6191</td>\n",
              "      <td>2.6852</td>\n",
              "      <td>2.3521</td>\n",
              "    </tr>\n",
              "    <tr>\n",
              "      <th>1</th>\n",
              "      <td>67867.0</td>\n",
              "      <td>1821.1560</td>\n",
              "      <td>425.1305</td>\n",
              "      <td>220.2232</td>\n",
              "      <td>0.8554</td>\n",
              "      <td>293.9574</td>\n",
              "      <td>0.9025</td>\n",
              "      <td>75195.0</td>\n",
              "      <td>0.7140</td>\n",
              "      <td>1.9305</td>\n",
              "      <td>...</td>\n",
              "      <td>194.1964</td>\n",
              "      <td>17.7874</td>\n",
              "      <td>17.4780</td>\n",
              "      <td>16.7636</td>\n",
              "      <td>-0.4223</td>\n",
              "      <td>-0.2720</td>\n",
              "      <td>-0.2523</td>\n",
              "      <td>3.1070</td>\n",
              "      <td>3.2185</td>\n",
              "      <td>3.9871</td>\n",
              "    </tr>\n",
              "    <tr>\n",
              "      <th>2</th>\n",
              "      <td>76715.0</td>\n",
              "      <td>1163.7260</td>\n",
              "      <td>439.6134</td>\n",
              "      <td>226.2123</td>\n",
              "      <td>0.8574</td>\n",
              "      <td>312.5325</td>\n",
              "      <td>0.9817</td>\n",
              "      <td>78143.0</td>\n",
              "      <td>0.7481</td>\n",
              "      <td>1.9434</td>\n",
              "      <td>...</td>\n",
              "      <td>184.7175</td>\n",
              "      <td>21.1586</td>\n",
              "      <td>21.0102</td>\n",
              "      <td>21.6313</td>\n",
              "      <td>-0.6941</td>\n",
              "      <td>-0.4818</td>\n",
              "      <td>-0.3975</td>\n",
              "      <td>3.4168</td>\n",
              "      <td>3.2742</td>\n",
              "      <td>3.2425</td>\n",
              "    </tr>\n",
              "    <tr>\n",
              "      <th>3</th>\n",
              "      <td>79642.0</td>\n",
              "      <td>1144.6030</td>\n",
              "      <td>463.9503</td>\n",
              "      <td>221.3451</td>\n",
              "      <td>0.8789</td>\n",
              "      <td>318.4389</td>\n",
              "      <td>0.9902</td>\n",
              "      <td>80431.0</td>\n",
              "      <td>0.7782</td>\n",
              "      <td>2.0960</td>\n",
              "      <td>...</td>\n",
              "      <td>189.4863</td>\n",
              "      <td>23.4901</td>\n",
              "      <td>25.6410</td>\n",
              "      <td>26.6423</td>\n",
              "      <td>-0.7871</td>\n",
              "      <td>-0.5287</td>\n",
              "      <td>-0.3032</td>\n",
              "      <td>2.6744</td>\n",
              "      <td>2.2202</td>\n",
              "      <td>1.9222</td>\n",
              "    </tr>\n",
              "    <tr>\n",
              "      <th>4</th>\n",
              "      <td>65874.0</td>\n",
              "      <td>1700.9301</td>\n",
              "      <td>442.3879</td>\n",
              "      <td>210.5656</td>\n",
              "      <td>0.8795</td>\n",
              "      <td>289.6090</td>\n",
              "      <td>0.8907</td>\n",
              "      <td>73961.0</td>\n",
              "      <td>0.7165</td>\n",
              "      <td>2.1010</td>\n",
              "      <td>...</td>\n",
              "      <td>196.4848</td>\n",
              "      <td>25.2135</td>\n",
              "      <td>26.7851</td>\n",
              "      <td>26.8374</td>\n",
              "      <td>-0.8116</td>\n",
              "      <td>-0.7447</td>\n",
              "      <td>-0.5696</td>\n",
              "      <td>2.7527</td>\n",
              "      <td>2.6221</td>\n",
              "      <td>2.3447</td>\n",
              "    </tr>\n",
              "    <tr>\n",
              "      <th>...</th>\n",
              "      <td>...</td>\n",
              "      <td>...</td>\n",
              "      <td>...</td>\n",
              "      <td>...</td>\n",
              "      <td>...</td>\n",
              "      <td>...</td>\n",
              "      <td>...</td>\n",
              "      <td>...</td>\n",
              "      <td>...</td>\n",
              "      <td>...</td>\n",
              "      <td>...</td>\n",
              "      <td>...</td>\n",
              "      <td>...</td>\n",
              "      <td>...</td>\n",
              "      <td>...</td>\n",
              "      <td>...</td>\n",
              "      <td>...</td>\n",
              "      <td>...</td>\n",
              "      <td>...</td>\n",
              "      <td>...</td>\n",
              "      <td>...</td>\n",
              "    </tr>\n",
              "    <tr>\n",
              "      <th>727</th>\n",
              "      <td>89084.0</td>\n",
              "      <td>2043.2350</td>\n",
              "      <td>424.6149</td>\n",
              "      <td>284.7247</td>\n",
              "      <td>0.7419</td>\n",
              "      <td>336.7867</td>\n",
              "      <td>0.9113</td>\n",
              "      <td>97758.0</td>\n",
              "      <td>0.7534</td>\n",
              "      <td>1.4913</td>\n",
              "      <td>...</td>\n",
              "      <td>197.1373</td>\n",
              "      <td>21.2523</td>\n",
              "      <td>22.6418</td>\n",
              "      <td>19.7280</td>\n",
              "      <td>-0.7327</td>\n",
              "      <td>-0.7323</td>\n",
              "      <td>-0.9617</td>\n",
              "      <td>2.9888</td>\n",
              "      <td>2.7660</td>\n",
              "      <td>3.7567</td>\n",
              "    </tr>\n",
              "    <tr>\n",
              "      <th>728</th>\n",
              "      <td>77562.0</td>\n",
              "      <td>2216.4470</td>\n",
              "      <td>464.2564</td>\n",
              "      <td>227.8966</td>\n",
              "      <td>0.8712</td>\n",
              "      <td>314.2531</td>\n",
              "      <td>0.9085</td>\n",
              "      <td>85375.0</td>\n",
              "      <td>0.6094</td>\n",
              "      <td>2.0371</td>\n",
              "      <td>...</td>\n",
              "      <td>195.2540</td>\n",
              "      <td>22.4017</td>\n",
              "      <td>24.6530</td>\n",
              "      <td>23.0531</td>\n",
              "      <td>-1.1141</td>\n",
              "      <td>-0.9940</td>\n",
              "      <td>-0.8077</td>\n",
              "      <td>3.3086</td>\n",
              "      <td>3.0744</td>\n",
              "      <td>3.0565</td>\n",
              "    </tr>\n",
              "    <tr>\n",
              "      <th>729</th>\n",
              "      <td>98748.0</td>\n",
              "      <td>1202.0850</td>\n",
              "      <td>443.2601</td>\n",
              "      <td>284.5458</td>\n",
              "      <td>0.7668</td>\n",
              "      <td>354.5841</td>\n",
              "      <td>0.9880</td>\n",
              "      <td>99952.0</td>\n",
              "      <td>0.7643</td>\n",
              "      <td>1.5578</td>\n",
              "      <td>...</td>\n",
              "      <td>182.9577</td>\n",
              "      <td>19.9447</td>\n",
              "      <td>19.7135</td>\n",
              "      <td>19.9747</td>\n",
              "      <td>-0.8751</td>\n",
              "      <td>-0.8048</td>\n",
              "      <td>-0.5749</td>\n",
              "      <td>2.9762</td>\n",
              "      <td>2.8648</td>\n",
              "      <td>3.7368</td>\n",
              "    </tr>\n",
              "    <tr>\n",
              "      <th>730</th>\n",
              "      <td>59867.0</td>\n",
              "      <td>1999.6479</td>\n",
              "      <td>418.0183</td>\n",
              "      <td>236.0217</td>\n",
              "      <td>0.8254</td>\n",
              "      <td>276.0888</td>\n",
              "      <td>0.8029</td>\n",
              "      <td>74562.0</td>\n",
              "      <td>0.5567</td>\n",
              "      <td>1.7711</td>\n",
              "      <td>...</td>\n",
              "      <td>182.3957</td>\n",
              "      <td>18.3680</td>\n",
              "      <td>18.3367</td>\n",
              "      <td>15.8968</td>\n",
              "      <td>-0.7564</td>\n",
              "      <td>-0.7940</td>\n",
              "      <td>-0.6092</td>\n",
              "      <td>2.7778</td>\n",
              "      <td>2.8861</td>\n",
              "      <td>2.5526</td>\n",
              "    </tr>\n",
              "    <tr>\n",
              "      <th>731</th>\n",
              "      <td>78161.0</td>\n",
              "      <td>2427.2271</td>\n",
              "      <td>433.2900</td>\n",
              "      <td>273.8688</td>\n",
              "      <td>0.7749</td>\n",
              "      <td>315.4642</td>\n",
              "      <td>0.8389</td>\n",
              "      <td>93175.0</td>\n",
              "      <td>0.6549</td>\n",
              "      <td>1.5821</td>\n",
              "      <td>...</td>\n",
              "      <td>172.7420</td>\n",
              "      <td>24.3185</td>\n",
              "      <td>25.4460</td>\n",
              "      <td>24.7351</td>\n",
              "      <td>-0.3528</td>\n",
              "      <td>-0.2963</td>\n",
              "      <td>-0.1734</td>\n",
              "      <td>2.1855</td>\n",
              "      <td>2.2116</td>\n",
              "      <td>2.1350</td>\n",
              "    </tr>\n",
              "  </tbody>\n",
              "</table>\n",
              "<p>1717 rows × 28 columns</p>\n",
              "</div>\n",
              "      <button class=\"colab-df-convert\" onclick=\"convertToInteractive('df-1c5194b2-397b-4ed1-9ca0-8a2e98b11be6')\"\n",
              "              title=\"Convert this dataframe to an interactive table.\"\n",
              "              style=\"display:none;\">\n",
              "        \n",
              "  <svg xmlns=\"http://www.w3.org/2000/svg\" height=\"24px\"viewBox=\"0 0 24 24\"\n",
              "       width=\"24px\">\n",
              "    <path d=\"M0 0h24v24H0V0z\" fill=\"none\"/>\n",
              "    <path d=\"M18.56 5.44l.94 2.06.94-2.06 2.06-.94-2.06-.94-.94-2.06-.94 2.06-2.06.94zm-11 1L8.5 8.5l.94-2.06 2.06-.94-2.06-.94L8.5 2.5l-.94 2.06-2.06.94zm10 10l.94 2.06.94-2.06 2.06-.94-2.06-.94-.94-2.06-.94 2.06-2.06.94z\"/><path d=\"M17.41 7.96l-1.37-1.37c-.4-.4-.92-.59-1.43-.59-.52 0-1.04.2-1.43.59L10.3 9.45l-7.72 7.72c-.78.78-.78 2.05 0 2.83L4 21.41c.39.39.9.59 1.41.59.51 0 1.02-.2 1.41-.59l7.78-7.78 2.81-2.81c.8-.78.8-2.07 0-2.86zM5.41 20L4 18.59l7.72-7.72 1.47 1.35L5.41 20z\"/>\n",
              "  </svg>\n",
              "      </button>\n",
              "      \n",
              "  <style>\n",
              "    .colab-df-container {\n",
              "      display:flex;\n",
              "      flex-wrap:wrap;\n",
              "      gap: 12px;\n",
              "    }\n",
              "\n",
              "    .colab-df-convert {\n",
              "      background-color: #E8F0FE;\n",
              "      border: none;\n",
              "      border-radius: 50%;\n",
              "      cursor: pointer;\n",
              "      display: none;\n",
              "      fill: #1967D2;\n",
              "      height: 32px;\n",
              "      padding: 0 0 0 0;\n",
              "      width: 32px;\n",
              "    }\n",
              "\n",
              "    .colab-df-convert:hover {\n",
              "      background-color: #E2EBFA;\n",
              "      box-shadow: 0px 1px 2px rgba(60, 64, 67, 0.3), 0px 1px 3px 1px rgba(60, 64, 67, 0.15);\n",
              "      fill: #174EA6;\n",
              "    }\n",
              "\n",
              "    [theme=dark] .colab-df-convert {\n",
              "      background-color: #3B4455;\n",
              "      fill: #D2E3FC;\n",
              "    }\n",
              "\n",
              "    [theme=dark] .colab-df-convert:hover {\n",
              "      background-color: #434B5C;\n",
              "      box-shadow: 0px 1px 3px 1px rgba(0, 0, 0, 0.15);\n",
              "      filter: drop-shadow(0px 1px 2px rgba(0, 0, 0, 0.3));\n",
              "      fill: #FFFFFF;\n",
              "    }\n",
              "  </style>\n",
              "\n",
              "      <script>\n",
              "        const buttonEl =\n",
              "          document.querySelector('#df-1c5194b2-397b-4ed1-9ca0-8a2e98b11be6 button.colab-df-convert');\n",
              "        buttonEl.style.display =\n",
              "          google.colab.kernel.accessAllowed ? 'block' : 'none';\n",
              "\n",
              "        async function convertToInteractive(key) {\n",
              "          const element = document.querySelector('#df-1c5194b2-397b-4ed1-9ca0-8a2e98b11be6');\n",
              "          const dataTable =\n",
              "            await google.colab.kernel.invokeFunction('convertToInteractive',\n",
              "                                                     [key], {});\n",
              "          if (!dataTable) return;\n",
              "\n",
              "          const docLinkHtml = 'Like what you see? Visit the ' +\n",
              "            '<a target=\"_blank\" href=https://colab.research.google.com/notebooks/data_table.ipynb>data table notebook</a>'\n",
              "            + ' to learn more about interactive tables.';\n",
              "          element.innerHTML = '';\n",
              "          dataTable['output_type'] = 'display_data';\n",
              "          await google.colab.output.renderOutput(dataTable, element);\n",
              "          const docLink = document.createElement('div');\n",
              "          docLink.innerHTML = docLinkHtml;\n",
              "          element.appendChild(docLink);\n",
              "        }\n",
              "      </script>\n",
              "    </div>\n",
              "  </div>\n",
              "  "
            ]
          },
          "metadata": {},
          "execution_count": 77
        }
      ]
    },
    {
      "cell_type": "code",
      "source": [
        "sm = SMOTE(random_state = 2)\n",
        "X_train_res, y_train_res = sm.fit_resample(X_train, y_train.ravel())"
      ],
      "metadata": {
        "id": "EHS5dW-eBBM_"
      },
      "execution_count": 78,
      "outputs": []
    },
    {
      "cell_type": "code",
      "source": [
        "plt.hist(y_train_res)\n",
        "plt.show()"
      ],
      "metadata": {
        "colab": {
          "base_uri": "https://localhost:8080/",
          "height": 430
        },
        "id": "1ARTqC5PBGbK",
        "outputId": "a17a699e-c871-4b17-a41a-cac2100b6ddc"
      },
      "execution_count": 79,
      "outputs": [
        {
          "output_type": "display_data",
          "data": {
            "text/plain": [
              "<Figure size 640x480 with 1 Axes>"
            ],
            "image/png": "[encoded data removed]"
          },
          "metadata": {}
        }
      ]
    },
    {
      "cell_type": "code",
      "source": [
        "clf =  cb.CatBoostClassifier(iterations=1000, learning_rate=0.1, depth=6 , verbose = 0)\n",
        "clf.fit(X_train_res, y_train_res)\n",
        "y_pred = clf.predict(X_test)\n",
        "print(classification_report(y_test, y_pred))\n"
      ],
      "metadata": {
        "colab": {
          "base_uri": "https://localhost:8080/"
        },
        "id": "bnB6wdlZBP0g",
        "outputId": "c320831f-bcd6-4bb0-8897-735cf195fcb6"
      },
      "execution_count": 80,
      "outputs": [
        {
          "output_type": "stream",
          "name": "stdout",
          "text": [
            "              precision    recall  f1-score   support\n",
            "\n",
            "           0       0.95      0.91      0.93       247\n",
            "           1       0.89      0.93      0.91       184\n",
            "\n",
            "    accuracy                           0.92       431\n",
            "   macro avg       0.92      0.92      0.92       431\n",
            "weighted avg       0.92      0.92      0.92       431\n",
            "\n"
          ]
        }
      ]
    },
    {
      "cell_type": "code",
      "source": [
        "y_train = PixelFeaturesSiirttrain['class']\n",
        "X_train = PixelFeaturesSiirttrain.drop('class' , axis = 1)\n",
        "y_test = PixelFeaturesSiirttest['class']\n",
        "X_test = PixelFeaturesSiirttest.drop('class' , axis = 1)"
      ],
      "metadata": {
        "id": "iAZlLlQTEg-T"
      },
      "execution_count": 81,
      "outputs": []
    },
    {
      "cell_type": "code",
      "source": [
        "sm = SMOTE(random_state = 2)\n",
        "X_train_res, y_train_res = sm.fit_resample(X_train, y_train.ravel())"
      ],
      "metadata": {
        "id": "3w7lTumzg44F"
      },
      "execution_count": 82,
      "outputs": []
    },
    {
      "cell_type": "code",
      "source": [
        "clf =  cb.CatBoostClassifier(iterations=1000, learning_rate=0.1, depth=6 , verbose = 0)\n",
        "clf.fit(X_train_res, y_train_res)\n",
        "y_pred = clf.predict(X_test)\n",
        "print(classification_report(y_test, y_pred))"
      ],
      "metadata": {
        "colab": {
          "base_uri": "https://localhost:8080/"
        },
        "id": "GKm8XEPxhAKm",
        "outputId": "83cae8f0-4f9b-47a2-e452-e9f8cad94e57"
      },
      "execution_count": 83,
      "outputs": [
        {
          "output_type": "stream",
          "name": "stdout",
          "text": [
            "              precision    recall  f1-score   support\n",
            "\n",
            "           0       0.98      0.97      0.98       247\n",
            "           1       0.96      0.98      0.97       184\n",
            "\n",
            "    accuracy                           0.97       431\n",
            "   macro avg       0.97      0.97      0.97       431\n",
            "weighted avg       0.97      0.97      0.97       431\n",
            "\n"
          ]
        }
      ]
    },
    {
      "cell_type": "code",
      "source": [],
      "metadata": {
        "id": "_fayXs0dhBfD"
      },
      "execution_count": null,
      "outputs": []
    }
  ]
}